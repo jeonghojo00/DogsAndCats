{
  "metadata": {
    "kernelspec": {
      "language": "python",
      "display_name": "Python 3",
      "name": "python3"
    },
    "language_info": {
      "name": "python",
      "version": "3.7.12",
      "mimetype": "text/x-python",
      "codemirror_mode": {
        "name": "ipython",
        "version": 3
      },
      "pygments_lexer": "ipython3",
      "nbconvert_exporter": "python",
      "file_extension": ".py"
    },
    "colab": {
      "name": "imageclassification_dogsandcats.ipynb",
      "provenance": [],
      "machine_shape": "hm",
      "collapsed_sections": [
        "l2CTnWm9eerI",
        "TFV712L4ehdt",
        "-_OvZOkn5aR8",
        "RHsVfqWOt9hw",
        "lm84PsB0jtb7",
        "tGKDBVDorHvF"
      ],
      "background_execution": "on",
      "include_colab_link": true
    },
    "accelerator": "GPU",
    "widgets": {
      "application/vnd.jupyter.widget-state+json": {
        "08821a6eb1c9437f9b59ea2fe2145104": {
          "model_module": "@jupyter-widgets/controls",
          "model_name": "HBoxModel",
          "model_module_version": "1.5.0",
          "state": {
            "_dom_classes": [],
            "_model_module": "@jupyter-widgets/controls",
            "_model_module_version": "1.5.0",
            "_model_name": "HBoxModel",
            "_view_count": null,
            "_view_module": "@jupyter-widgets/controls",
            "_view_module_version": "1.5.0",
            "_view_name": "HBoxView",
            "box_style": "",
            "children": [
              "IPY_MODEL_d18cd8f109b349b0851e0140598756d3",
              "IPY_MODEL_d9936784f80b45999b8bfc2bd6198ae7",
              "IPY_MODEL_ebbc0143ae6e4a43a4079a4c03e61b60"
            ],
            "layout": "IPY_MODEL_f8e680e32edd4be885e241152bb2af2d"
          }
        },
        "d18cd8f109b349b0851e0140598756d3": {
          "model_module": "@jupyter-widgets/controls",
          "model_name": "HTMLModel",
          "model_module_version": "1.5.0",
          "state": {
            "_dom_classes": [],
            "_model_module": "@jupyter-widgets/controls",
            "_model_module_version": "1.5.0",
            "_model_name": "HTMLModel",
            "_view_count": null,
            "_view_module": "@jupyter-widgets/controls",
            "_view_module_version": "1.5.0",
            "_view_name": "HTMLView",
            "description": "",
            "description_tooltip": null,
            "layout": "IPY_MODEL_ccd0a6b7f98f43729ed9fb1bc08b43bd",
            "placeholder": "​",
            "style": "IPY_MODEL_fac324bd718a48bda9a4595552d5c51a",
            "value": "100%"
          }
        },
        "d9936784f80b45999b8bfc2bd6198ae7": {
          "model_module": "@jupyter-widgets/controls",
          "model_name": "FloatProgressModel",
          "model_module_version": "1.5.0",
          "state": {
            "_dom_classes": [],
            "_model_module": "@jupyter-widgets/controls",
            "_model_module_version": "1.5.0",
            "_model_name": "FloatProgressModel",
            "_view_count": null,
            "_view_module": "@jupyter-widgets/controls",
            "_view_module_version": "1.5.0",
            "_view_name": "ProgressView",
            "bar_style": "success",
            "description": "",
            "description_tooltip": null,
            "layout": "IPY_MODEL_837acbc28a6740d8a8a59d3250f3638e",
            "max": 102530333,
            "min": 0,
            "orientation": "horizontal",
            "style": "IPY_MODEL_dfbd1cbd400e48eca9a53d4d46c6341d",
            "value": 102530333
          }
        },
        "ebbc0143ae6e4a43a4079a4c03e61b60": {
          "model_module": "@jupyter-widgets/controls",
          "model_name": "HTMLModel",
          "model_module_version": "1.5.0",
          "state": {
            "_dom_classes": [],
            "_model_module": "@jupyter-widgets/controls",
            "_model_module_version": "1.5.0",
            "_model_name": "HTMLModel",
            "_view_count": null,
            "_view_module": "@jupyter-widgets/controls",
            "_view_module_version": "1.5.0",
            "_view_name": "HTMLView",
            "description": "",
            "description_tooltip": null,
            "layout": "IPY_MODEL_a37f0c62e8d74e9981b0781ad01422ca",
            "placeholder": "​",
            "style": "IPY_MODEL_cbda698e26974f94b98ef7751365d789",
            "value": " 97.8M/97.8M [00:01&lt;00:00, 59.3MB/s]"
          }
        },
        "f8e680e32edd4be885e241152bb2af2d": {
          "model_module": "@jupyter-widgets/base",
          "model_name": "LayoutModel",
          "model_module_version": "1.2.0",
          "state": {
            "_model_module": "@jupyter-widgets/base",
            "_model_module_version": "1.2.0",
            "_model_name": "LayoutModel",
            "_view_count": null,
            "_view_module": "@jupyter-widgets/base",
            "_view_module_version": "1.2.0",
            "_view_name": "LayoutView",
            "align_content": null,
            "align_items": null,
            "align_self": null,
            "border": null,
            "bottom": null,
            "display": null,
            "flex": null,
            "flex_flow": null,
            "grid_area": null,
            "grid_auto_columns": null,
            "grid_auto_flow": null,
            "grid_auto_rows": null,
            "grid_column": null,
            "grid_gap": null,
            "grid_row": null,
            "grid_template_areas": null,
            "grid_template_columns": null,
            "grid_template_rows": null,
            "height": null,
            "justify_content": null,
            "justify_items": null,
            "left": null,
            "margin": null,
            "max_height": null,
            "max_width": null,
            "min_height": null,
            "min_width": null,
            "object_fit": null,
            "object_position": null,
            "order": null,
            "overflow": null,
            "overflow_x": null,
            "overflow_y": null,
            "padding": null,
            "right": null,
            "top": null,
            "visibility": null,
            "width": null
          }
        },
        "ccd0a6b7f98f43729ed9fb1bc08b43bd": {
          "model_module": "@jupyter-widgets/base",
          "model_name": "LayoutModel",
          "model_module_version": "1.2.0",
          "state": {
            "_model_module": "@jupyter-widgets/base",
            "_model_module_version": "1.2.0",
            "_model_name": "LayoutModel",
            "_view_count": null,
            "_view_module": "@jupyter-widgets/base",
            "_view_module_version": "1.2.0",
            "_view_name": "LayoutView",
            "align_content": null,
            "align_items": null,
            "align_self": null,
            "border": null,
            "bottom": null,
            "display": null,
            "flex": null,
            "flex_flow": null,
            "grid_area": null,
            "grid_auto_columns": null,
            "grid_auto_flow": null,
            "grid_auto_rows": null,
            "grid_column": null,
            "grid_gap": null,
            "grid_row": null,
            "grid_template_areas": null,
            "grid_template_columns": null,
            "grid_template_rows": null,
            "height": null,
            "justify_content": null,
            "justify_items": null,
            "left": null,
            "margin": null,
            "max_height": null,
            "max_width": null,
            "min_height": null,
            "min_width": null,
            "object_fit": null,
            "object_position": null,
            "order": null,
            "overflow": null,
            "overflow_x": null,
            "overflow_y": null,
            "padding": null,
            "right": null,
            "top": null,
            "visibility": null,
            "width": null
          }
        },
        "fac324bd718a48bda9a4595552d5c51a": {
          "model_module": "@jupyter-widgets/controls",
          "model_name": "DescriptionStyleModel",
          "model_module_version": "1.5.0",
          "state": {
            "_model_module": "@jupyter-widgets/controls",
            "_model_module_version": "1.5.0",
            "_model_name": "DescriptionStyleModel",
            "_view_count": null,
            "_view_module": "@jupyter-widgets/base",
            "_view_module_version": "1.2.0",
            "_view_name": "StyleView",
            "description_width": ""
          }
        },
        "837acbc28a6740d8a8a59d3250f3638e": {
          "model_module": "@jupyter-widgets/base",
          "model_name": "LayoutModel",
          "model_module_version": "1.2.0",
          "state": {
            "_model_module": "@jupyter-widgets/base",
            "_model_module_version": "1.2.0",
            "_model_name": "LayoutModel",
            "_view_count": null,
            "_view_module": "@jupyter-widgets/base",
            "_view_module_version": "1.2.0",
            "_view_name": "LayoutView",
            "align_content": null,
            "align_items": null,
            "align_self": null,
            "border": null,
            "bottom": null,
            "display": null,
            "flex": null,
            "flex_flow": null,
            "grid_area": null,
            "grid_auto_columns": null,
            "grid_auto_flow": null,
            "grid_auto_rows": null,
            "grid_column": null,
            "grid_gap": null,
            "grid_row": null,
            "grid_template_areas": null,
            "grid_template_columns": null,
            "grid_template_rows": null,
            "height": null,
            "justify_content": null,
            "justify_items": null,
            "left": null,
            "margin": null,
            "max_height": null,
            "max_width": null,
            "min_height": null,
            "min_width": null,
            "object_fit": null,
            "object_position": null,
            "order": null,
            "overflow": null,
            "overflow_x": null,
            "overflow_y": null,
            "padding": null,
            "right": null,
            "top": null,
            "visibility": null,
            "width": null
          }
        },
        "dfbd1cbd400e48eca9a53d4d46c6341d": {
          "model_module": "@jupyter-widgets/controls",
          "model_name": "ProgressStyleModel",
          "model_module_version": "1.5.0",
          "state": {
            "_model_module": "@jupyter-widgets/controls",
            "_model_module_version": "1.5.0",
            "_model_name": "ProgressStyleModel",
            "_view_count": null,
            "_view_module": "@jupyter-widgets/base",
            "_view_module_version": "1.2.0",
            "_view_name": "StyleView",
            "bar_color": null,
            "description_width": ""
          }
        },
        "a37f0c62e8d74e9981b0781ad01422ca": {
          "model_module": "@jupyter-widgets/base",
          "model_name": "LayoutModel",
          "model_module_version": "1.2.0",
          "state": {
            "_model_module": "@jupyter-widgets/base",
            "_model_module_version": "1.2.0",
            "_model_name": "LayoutModel",
            "_view_count": null,
            "_view_module": "@jupyter-widgets/base",
            "_view_module_version": "1.2.0",
            "_view_name": "LayoutView",
            "align_content": null,
            "align_items": null,
            "align_self": null,
            "border": null,
            "bottom": null,
            "display": null,
            "flex": null,
            "flex_flow": null,
            "grid_area": null,
            "grid_auto_columns": null,
            "grid_auto_flow": null,
            "grid_auto_rows": null,
            "grid_column": null,
            "grid_gap": null,
            "grid_row": null,
            "grid_template_areas": null,
            "grid_template_columns": null,
            "grid_template_rows": null,
            "height": null,
            "justify_content": null,
            "justify_items": null,
            "left": null,
            "margin": null,
            "max_height": null,
            "max_width": null,
            "min_height": null,
            "min_width": null,
            "object_fit": null,
            "object_position": null,
            "order": null,
            "overflow": null,
            "overflow_x": null,
            "overflow_y": null,
            "padding": null,
            "right": null,
            "top": null,
            "visibility": null,
            "width": null
          }
        },
        "cbda698e26974f94b98ef7751365d789": {
          "model_module": "@jupyter-widgets/controls",
          "model_name": "DescriptionStyleModel",
          "model_module_version": "1.5.0",
          "state": {
            "_model_module": "@jupyter-widgets/controls",
            "_model_module_version": "1.5.0",
            "_model_name": "DescriptionStyleModel",
            "_view_count": null,
            "_view_module": "@jupyter-widgets/base",
            "_view_module_version": "1.2.0",
            "_view_name": "StyleView",
            "description_width": ""
          }
        }
      }
    }
  },
  "nbformat_minor": 0,
  "nbformat": 4,
  "cells": [
    {
      "cell_type": "markdown",
      "metadata": {
        "id": "view-in-github",
        "colab_type": "text"
      },
      "source": [
        "<a href=\"https://colab.research.google.com/github/jeonghojo00/DogsAndCats/blob/main/imageclassification_dogsandcats.ipynb\" target=\"_parent\"><img src=\"https://colab.research.google.com/assets/colab-badge.svg\" alt=\"Open In Colab\"/></a>"
      ]
    },
    {
      "cell_type": "markdown",
      "source": [
        "# Select Runtime Type"
      ],
      "metadata": {
        "id": "l2CTnWm9eerI"
      }
    },
    {
      "cell_type": "markdown",
      "source": [
        "## TPU"
      ],
      "metadata": {
        "id": "TFV712L4ehdt"
      }
    },
    {
      "cell_type": "code",
      "source": [
        "# Select TPU as runtime type\n",
        "import os\n",
        "assert os.environ['COLAB_TPU_ADDR'], 'Make sure to select TPU from Edit > Notebook settings > Hardware accelerator'"
      ],
      "metadata": {
        "colab": {
          "base_uri": "https://localhost:8080/",
          "height": 329
        },
        "id": "CS1xTepCej5n",
        "outputId": "262641f2-fb6a-451d-ff60-ac292914bee5"
      },
      "execution_count": null,
      "outputs": [
        {
          "output_type": "error",
          "ename": "KeyError",
          "evalue": "ignored",
          "traceback": [
            "\u001b[0;31m---------------------------------------------------------------------------\u001b[0m",
            "\u001b[0;31mKeyError\u001b[0m                                  Traceback (most recent call last)",
            "\u001b[0;32m<ipython-input-2-e9796712ba66>\u001b[0m in \u001b[0;36m<module>\u001b[0;34m()\u001b[0m\n\u001b[1;32m      1\u001b[0m \u001b[0;31m# Select TPU as runtime type\u001b[0m\u001b[0;34m\u001b[0m\u001b[0;34m\u001b[0m\u001b[0;34m\u001b[0m\u001b[0m\n\u001b[1;32m      2\u001b[0m \u001b[0;32mimport\u001b[0m \u001b[0mos\u001b[0m\u001b[0;34m\u001b[0m\u001b[0;34m\u001b[0m\u001b[0m\n\u001b[0;32m----> 3\u001b[0;31m \u001b[0;32massert\u001b[0m \u001b[0mos\u001b[0m\u001b[0;34m.\u001b[0m\u001b[0menviron\u001b[0m\u001b[0;34m[\u001b[0m\u001b[0;34m'COLAB_TPU_ADDR'\u001b[0m\u001b[0;34m]\u001b[0m\u001b[0;34m,\u001b[0m \u001b[0;34m'Make sure to select TPU from Edit > Notebook settings > Hardware accelerator'\u001b[0m\u001b[0;34m\u001b[0m\u001b[0;34m\u001b[0m\u001b[0m\n\u001b[0m",
            "\u001b[0;32m/usr/lib/python3.7/os.py\u001b[0m in \u001b[0;36m__getitem__\u001b[0;34m(self, key)\u001b[0m\n\u001b[1;32m    679\u001b[0m         \u001b[0;32mexcept\u001b[0m \u001b[0mKeyError\u001b[0m\u001b[0;34m:\u001b[0m\u001b[0;34m\u001b[0m\u001b[0;34m\u001b[0m\u001b[0m\n\u001b[1;32m    680\u001b[0m             \u001b[0;31m# raise KeyError with the original key value\u001b[0m\u001b[0;34m\u001b[0m\u001b[0;34m\u001b[0m\u001b[0;34m\u001b[0m\u001b[0m\n\u001b[0;32m--> 681\u001b[0;31m             \u001b[0;32mraise\u001b[0m \u001b[0mKeyError\u001b[0m\u001b[0;34m(\u001b[0m\u001b[0mkey\u001b[0m\u001b[0;34m)\u001b[0m \u001b[0;32mfrom\u001b[0m \u001b[0;32mNone\u001b[0m\u001b[0;34m\u001b[0m\u001b[0;34m\u001b[0m\u001b[0m\n\u001b[0m\u001b[1;32m    682\u001b[0m         \u001b[0;32mreturn\u001b[0m \u001b[0mself\u001b[0m\u001b[0;34m.\u001b[0m\u001b[0mdecodevalue\u001b[0m\u001b[0;34m(\u001b[0m\u001b[0mvalue\u001b[0m\u001b[0;34m)\u001b[0m\u001b[0;34m\u001b[0m\u001b[0;34m\u001b[0m\u001b[0m\n\u001b[1;32m    683\u001b[0m \u001b[0;34m\u001b[0m\u001b[0m\n",
            "\u001b[0;31mKeyError\u001b[0m: 'COLAB_TPU_ADDR'"
          ]
        }
      ]
    },
    {
      "cell_type": "code",
      "source": [
        "# Installing PyTorch/XLA\n",
        "!pip install cloud-tpu-client==0.10 torch==1.11.0 https://storage.googleapis.com/tpu-pytorch/wheels/colab/torch_xla-1.11-cp37-cp37m-linux_x86_64.whl"
      ],
      "metadata": {
        "id": "sWjKiQCvekc_"
      },
      "execution_count": null,
      "outputs": []
    },
    {
      "cell_type": "code",
      "source": [
        "# imports pytorch\n",
        "import torch\n",
        "\n",
        "# imports the torch_xla package\n",
        "import torch_xla\n",
        "import torch_xla.core.xla_model as xm"
      ],
      "metadata": {
        "id": "L6IJ47nCekfX"
      },
      "execution_count": null,
      "outputs": []
    },
    {
      "cell_type": "code",
      "source": [
        "# Creates a random tensor on xla:1 (a Cloud TPU core)\n",
        "DEVICE = xm.xla_device()\n",
        "t1 = torch.ones(3, 3, device = DEVICE)\n",
        "print(t1)"
      ],
      "metadata": {
        "id": "fHdBxH3jekh-"
      },
      "execution_count": null,
      "outputs": []
    },
    {
      "cell_type": "code",
      "source": [
        "# Creating a tensor on the second Cloud TPU core\n",
        "SECOND_DEVICE = xm.xla_device(n=2, devkind='TPU')\n",
        "t2 = torch.zeros(3, 3, device = SECOND_DEVICE)\n",
        "print(t2)"
      ],
      "metadata": {
        "id": "C-EsXHH9ekkn"
      },
      "execution_count": null,
      "outputs": []
    },
    {
      "cell_type": "markdown",
      "source": [
        "## GPU"
      ],
      "metadata": {
        "id": "RdemCRu4eih7"
      }
    },
    {
      "cell_type": "code",
      "source": [
        "# Run only when Using GPU\n",
        "gpu_info = !nvidia-smi\n",
        "gpu_info = '\\n'.join(gpu_info)\n",
        "if gpu_info.find('failed') >= 0:\n",
        "  print('Not connected to a GPU')\n",
        "else:\n",
        "  print(gpu_info)"
      ],
      "metadata": {
        "colab": {
          "base_uri": "https://localhost:8080/"
        },
        "id": "YbCGuYXKey6A",
        "outputId": "5e84e7f0-9072-4d6a-9cc2-c16df9b3abe3"
      },
      "execution_count": 1,
      "outputs": [
        {
          "output_type": "stream",
          "name": "stdout",
          "text": [
            "Mon May  9 06:05:23 2022       \n",
            "+-----------------------------------------------------------------------------+\n",
            "| NVIDIA-SMI 460.32.03    Driver Version: 460.32.03    CUDA Version: 11.2     |\n",
            "|-------------------------------+----------------------+----------------------+\n",
            "| GPU  Name        Persistence-M| Bus-Id        Disp.A | Volatile Uncorr. ECC |\n",
            "| Fan  Temp  Perf  Pwr:Usage/Cap|         Memory-Usage | GPU-Util  Compute M. |\n",
            "|                               |                      |               MIG M. |\n",
            "|===============================+======================+======================|\n",
            "|   0  Tesla P100-PCIE...  Off  | 00000000:00:04.0 Off |                  N/A |\n",
            "| N/A   36C    P0    26W / 250W |      0MiB / 16280MiB |      0%      Default |\n",
            "|                               |                      |                  N/A |\n",
            "+-------------------------------+----------------------+----------------------+\n",
            "                                                                               \n",
            "+-----------------------------------------------------------------------------+\n",
            "| Processes:                                                                  |\n",
            "|  GPU   GI   CI        PID   Type   Process name                  GPU Memory |\n",
            "|        ID   ID                                                   Usage      |\n",
            "|=============================================================================|\n",
            "|  No running processes found                                                 |\n",
            "+-----------------------------------------------------------------------------+\n"
          ]
        }
      ]
    },
    {
      "cell_type": "code",
      "source": [
        "import torch\n",
        "\n",
        "DEVICE = 'cuda' if torch.cuda.is_available() else 'cpu'\n",
        "print(DEVICE)"
      ],
      "metadata": {
        "colab": {
          "base_uri": "https://localhost:8080/"
        },
        "id": "wcIQhsNFey8l",
        "outputId": "5ef66104-6aaf-4423-e678-c8332671a877"
      },
      "execution_count": 2,
      "outputs": [
        {
          "output_type": "stream",
          "name": "stdout",
          "text": [
            "cuda\n"
          ]
        }
      ]
    },
    {
      "cell_type": "markdown",
      "source": [
        "# Dogs and Cats classification"
      ],
      "metadata": {
        "id": "N7pO4bbxBhum"
      }
    },
    {
      "cell_type": "markdown",
      "source": [
        "## 0. Setup"
      ],
      "metadata": {
        "id": "-_OvZOkn5aR8"
      }
    },
    {
      "cell_type": "code",
      "source": [
        "# Mount google drive\n",
        "from google.colab import drive\n",
        "drive.mount('/content/drive')"
      ],
      "metadata": {
        "colab": {
          "base_uri": "https://localhost:8080/"
        },
        "id": "ZCdVfLZk6cis",
        "outputId": "e66cad20-c77b-4e6b-e666-6ccb1c06cc1b"
      },
      "execution_count": 3,
      "outputs": [
        {
          "output_type": "stream",
          "name": "stdout",
          "text": [
            "Mounted at /content/drive\n"
          ]
        }
      ]
    },
    {
      "cell_type": "code",
      "source": [
        "# Change directory to the package folder\n",
        "%cd '/content/drive/MyDrive/Colab Notebooks/DB/dogs_and_cats'\n",
        "# Verify the contents of the current folder\n",
        "!ls"
      ],
      "metadata": {
        "_uuid": "8f2839f25d086af736a60e9eeb907d3b93b6e0e5",
        "_cell_guid": "b1076dfc-b9ad-4769-8c92-a6c4dae69d19",
        "execution": {
          "iopub.status.busy": "2022-05-03T07:02:43.934434Z",
          "iopub.execute_input": "2022-05-03T07:02:43.934778Z",
          "iopub.status.idle": "2022-05-03T07:02:43.963489Z",
          "shell.execute_reply.started": "2022-05-03T07:02:43.934695Z",
          "shell.execute_reply": "2022-05-03T07:02:43.962677Z"
        },
        "trusted": true,
        "colab": {
          "base_uri": "https://localhost:8080/"
        },
        "id": "Qfz663kM4y1A",
        "outputId": "0d38d2b6-b4ac-4997-a7d9-e679d6e19cfb"
      },
      "execution_count": 4,
      "outputs": [
        {
          "output_type": "stream",
          "name": "stdout",
          "text": [
            "/content/drive/MyDrive/Colab Notebooks/DB/dogs_and_cats\n",
            "model  result  test  test.zip  train  train.zip\n"
          ]
        }
      ]
    },
    {
      "cell_type": "code",
      "source": [
        "# General\n",
        "import os\n",
        "import pandas as pd\n",
        "import numpy as np\n",
        "import matplotlib.pyplot as plt\n",
        "import cv2\n",
        "from tqdm import tqdm\n",
        "import time\n",
        "import copy\n",
        "import pickle\n",
        "import glob\n",
        "\n",
        "# Pytorch libraries for models and input\n",
        "import torch\n",
        "import torchvision \n",
        "from torchvision import models\n",
        "from torch import nn\n",
        "from torch.utils.data import DataLoader, Dataset\n",
        "from torch.nn import functional as F\n",
        "from torchvision.transforms import transforms, ToTensor"
      ],
      "metadata": {
        "execution": {
          "iopub.status.busy": "2022-05-03T07:02:43.964858Z",
          "iopub.execute_input": "2022-05-03T07:02:43.965196Z",
          "iopub.status.idle": "2022-05-03T07:02:47.217594Z",
          "shell.execute_reply.started": "2022-05-03T07:02:43.965160Z",
          "shell.execute_reply": "2022-05-03T07:02:47.216775Z"
        },
        "trusted": true,
        "id": "6XE8ExiI4y1B"
      },
      "execution_count": 5,
      "outputs": []
    },
    {
      "cell_type": "code",
      "source": [
        "# Execute only when only zip files are present\n",
        "'''\n",
        "from zipfile import ZipFile\n",
        "\n",
        "with ZipFile('./train.zip', 'r') as zip:\n",
        "    #zip.printdir()\n",
        "    zip.extractall()\n",
        "    print(\"Train Zip Extract Done\")\n",
        "    \n",
        "with ZipFile('./test.zip', 'r') as zip:\n",
        "    #zip.printdir()\n",
        "    zip.extractall()\n",
        "    print(\"Test Zip Extract Done\")\n",
        "'''"
      ],
      "metadata": {
        "execution": {
          "iopub.status.busy": "2022-05-03T07:02:47.219646Z",
          "iopub.execute_input": "2022-05-03T07:02:47.220206Z",
          "iopub.status.idle": "2022-05-03T07:03:05.526539Z",
          "shell.execute_reply.started": "2022-05-03T07:02:47.220165Z",
          "shell.execute_reply": "2022-05-03T07:03:05.525622Z"
        },
        "trusted": true,
        "colab": {
          "base_uri": "https://localhost:8080/",
          "height": 71
        },
        "id": "4_EscuEV4y1C",
        "outputId": "b8782d89-8b44-4152-a225-dcd3154f3aa5"
      },
      "execution_count": 6,
      "outputs": [
        {
          "output_type": "execute_result",
          "data": {
            "text/plain": [
              "'\\nfrom zipfile import ZipFile\\n\\nwith ZipFile(\\'./train.zip\\', \\'r\\') as zip:\\n    #zip.printdir()\\n    zip.extractall()\\n    print(\"Train Zip Extract Done\")\\n    \\nwith ZipFile(\\'./test.zip\\', \\'r\\') as zip:\\n    #zip.printdir()\\n    zip.extractall()\\n    print(\"Test Zip Extract Done\")\\n'"
            ],
            "application/vnd.google.colaboratory.intrinsic+json": {
              "type": "string"
            }
          },
          "metadata": {},
          "execution_count": 6
        }
      ]
    },
    {
      "cell_type": "markdown",
      "source": [
        "## 1. Data Preparation"
      ],
      "metadata": {
        "id": "f5OPGaLR5ihG"
      }
    },
    {
      "cell_type": "code",
      "source": [
        "train_path = './train'\n",
        "test_path = './test'\n",
        "\n",
        "train_list = glob.glob(os.path.join(train_path,'*.jpg'))\n",
        "test_list = glob.glob(os.path.join(test_path,'*.jpg'))\n",
        "\n",
        "print(\"{} Train images and {} Test images\".format(len(train_list), len(test_list)))\n",
        "print(\"train_list contains followings...\")\n",
        "print(*train_list[:5],sep='\\n')"
      ],
      "metadata": {
        "execution": {
          "iopub.status.busy": "2022-05-03T07:03:05.527727Z",
          "iopub.execute_input": "2022-05-03T07:03:05.527999Z",
          "iopub.status.idle": "2022-05-03T07:03:05.658299Z",
          "shell.execute_reply.started": "2022-05-03T07:03:05.527961Z",
          "shell.execute_reply": "2022-05-03T07:03:05.657564Z"
        },
        "trusted": true,
        "colab": {
          "base_uri": "https://localhost:8080/"
        },
        "id": "pUhQP_C44y1D",
        "outputId": "6f4b346b-7830-4138-c0a5-92e40a8f317d"
      },
      "execution_count": 7,
      "outputs": [
        {
          "output_type": "stream",
          "name": "stdout",
          "text": [
            "25000 Train images and 12500 Test images\n",
            "train_list contains followings...\n",
            "./train/dog.9099.jpg\n",
            "./train/dog.91.jpg\n",
            "./train/dog.910.jpg\n",
            "./train/dog.9100.jpg\n",
            "./train/dog.9101.jpg\n"
          ]
        }
      ]
    },
    {
      "cell_type": "code",
      "source": [
        "from sklearn.model_selection import train_test_split\n",
        "\n",
        "train_list, val_list = train_test_split(train_list, test_size=0.2)"
      ],
      "metadata": {
        "execution": {
          "iopub.status.busy": "2022-05-03T07:03:05.660187Z",
          "iopub.execute_input": "2022-05-03T07:03:05.660529Z",
          "iopub.status.idle": "2022-05-03T07:03:05.674558Z",
          "shell.execute_reply.started": "2022-05-03T07:03:05.660489Z",
          "shell.execute_reply": "2022-05-03T07:03:05.673866Z"
        },
        "trusted": true,
        "id": "-KTmiSvf4y1D"
      },
      "execution_count": 8,
      "outputs": []
    },
    {
      "cell_type": "code",
      "source": [
        "category = {'dog': 1,\n",
        "           'cat': 0}\n",
        "IMG_SIZE = 224\n",
        "BATCH_SIZE = 32"
      ],
      "metadata": {
        "execution": {
          "iopub.status.busy": "2022-05-03T07:06:42.792980Z",
          "iopub.execute_input": "2022-05-03T07:06:42.793438Z",
          "iopub.status.idle": "2022-05-03T07:06:42.799578Z",
          "shell.execute_reply.started": "2022-05-03T07:06:42.793402Z",
          "shell.execute_reply": "2022-05-03T07:06:42.798736Z"
        },
        "trusted": true,
        "id": "0y71st-Z4y1E"
      },
      "execution_count": 9,
      "outputs": []
    },
    {
      "cell_type": "code",
      "source": [
        "#data Augumentation\n",
        "train_transforms =  transforms.Compose([\n",
        "        transforms.ToPILImage(),\n",
        "        transforms.Resize((IMG_SIZE, IMG_SIZE)),\n",
        "        transforms.RandomResizedCrop(IMG_SIZE),\n",
        "        transforms.RandomHorizontalFlip(),\n",
        "        transforms.ToTensor(),\n",
        "        transforms.Normalize((0 , 0 , 0) , (1 , 1 , 1)),\n",
        "    ])\n",
        "\n",
        "val_transforms = transforms.Compose([\n",
        "        transforms.ToPILImage(),    \n",
        "        transforms.Resize((IMG_SIZE, IMG_SIZE)),\n",
        "        transforms.RandomResizedCrop(IMG_SIZE),\n",
        "        transforms.RandomHorizontalFlip(),\n",
        "        transforms.ToTensor(),\n",
        "        transforms.Normalize((0 , 0 , 0) , (1 , 1 , 1)),\n",
        "    ])\n",
        "\n",
        "\n",
        "test_transforms = transforms.Compose([ \n",
        "        transforms.ToPILImage(),\n",
        "        transforms.Resize((IMG_SIZE, IMG_SIZE)),\n",
        "        transforms.RandomResizedCrop(IMG_SIZE),\n",
        "        transforms.RandomHorizontalFlip(),\n",
        "        transforms.ToTensor(),\n",
        "        transforms.Normalize((0 , 0 , 0) , (1 , 1 , 1))\n",
        "    ])"
      ],
      "metadata": {
        "execution": {
          "iopub.status.busy": "2022-05-03T07:06:42.953955Z",
          "iopub.execute_input": "2022-05-03T07:06:42.954569Z",
          "iopub.status.idle": "2022-05-03T07:06:42.961220Z",
          "shell.execute_reply.started": "2022-05-03T07:06:42.954535Z",
          "shell.execute_reply": "2022-05-03T07:06:42.960459Z"
        },
        "trusted": true,
        "id": "kIQ5q6IT4y1E"
      },
      "execution_count": 10,
      "outputs": []
    },
    {
      "cell_type": "code",
      "source": [
        "class dataset(Dataset):\n",
        "    def __init__(self, image_files, transform=None):\n",
        "        self.image_files = image_files\n",
        "        self.transform = transform\n",
        "    \n",
        "    def __len__(self):\n",
        "        self.filelength = len(self.image_files)\n",
        "        return self.filelength\n",
        "    \n",
        "    def __getitem__(self, idx):\n",
        "        img_path = self.image_files[idx]\n",
        "        img = cv2.imread(img_path)\n",
        "        img_transformed = self.transform(img)\n",
        "        \n",
        "        label = img_path.split('/')[-1].split('.')[0]\n",
        "        if label == 'dog':\n",
        "            label = 1\n",
        "        else:\n",
        "            label = 0\n",
        "\n",
        "        return img_transformed, label"
      ],
      "metadata": {
        "execution": {
          "iopub.status.busy": "2022-05-03T07:06:43.154416Z",
          "iopub.execute_input": "2022-05-03T07:06:43.154973Z",
          "iopub.status.idle": "2022-05-03T07:06:43.161224Z",
          "shell.execute_reply.started": "2022-05-03T07:06:43.154937Z",
          "shell.execute_reply": "2022-05-03T07:06:43.160418Z"
        },
        "trusted": true,
        "id": "hdqvnzVN4y1F"
      },
      "execution_count": 11,
      "outputs": []
    },
    {
      "cell_type": "code",
      "source": [
        "train_data = dataset(train_list, train_transforms)\n",
        "print(\"{} train images are loaded\".format(len(train_data)))\n",
        "val_data = dataset(val_list, val_transforms)\n",
        "print(\"{} val images are loaded\".format(len(val_data)))\n",
        "test_data = dataset(test_list, test_transforms)\n",
        "print(\"{} test images are loaded\".format(len(test_data)))"
      ],
      "metadata": {
        "execution": {
          "iopub.status.busy": "2022-05-03T07:06:43.311669Z",
          "iopub.execute_input": "2022-05-03T07:06:43.312291Z",
          "iopub.status.idle": "2022-05-03T07:06:43.317931Z",
          "shell.execute_reply.started": "2022-05-03T07:06:43.312256Z",
          "shell.execute_reply": "2022-05-03T07:06:43.317250Z"
        },
        "trusted": true,
        "colab": {
          "base_uri": "https://localhost:8080/"
        },
        "id": "AnHaYJIv4y1G",
        "outputId": "8b476d9c-2e66-4922-b592-a545661bb81e"
      },
      "execution_count": 12,
      "outputs": [
        {
          "output_type": "stream",
          "name": "stdout",
          "text": [
            "20000 train images are loaded\n",
            "5000 val images are loaded\n",
            "12500 test images are loaded\n"
          ]
        }
      ]
    },
    {
      "cell_type": "code",
      "source": [
        "random_idx = np.random.randint(1, len(train_data), size = 6)\n",
        "fig = plt.figure(figsize=(8, 6))\n",
        "i = 1\n",
        "for idx in random_idx:\n",
        "    ax = fig.add_subplot(2, 3, i)\n",
        "    a_img = train_data[idx][0]\n",
        "    plt.imshow(np.squeeze(a_img).T)\n",
        "    if train_data[idx][1] == 1:\n",
        "        plt.title('dog')\n",
        "    else:\n",
        "        plt.title('cat')\n",
        "    i+=1\n",
        "\n",
        "plt.axis('off')\n",
        "plt.show()"
      ],
      "metadata": {
        "execution": {
          "iopub.status.busy": "2022-05-03T07:06:43.498099Z",
          "iopub.execute_input": "2022-05-03T07:06:43.498739Z",
          "iopub.status.idle": "2022-05-03T07:06:44.083324Z",
          "shell.execute_reply.started": "2022-05-03T07:06:43.498704Z",
          "shell.execute_reply": "2022-05-03T07:06:44.081570Z"
        },
        "trusted": true,
        "colab": {
          "base_uri": "https://localhost:8080/",
          "height": 429
        },
        "id": "7l3ox1s94y1H",
        "outputId": "e2af6c6a-1a7c-4f66-d608-2d56253f39d5"
      },
      "execution_count": null,
      "outputs": [
        {
          "output_type": "stream",
          "name": "stderr",
          "text": [
            "/usr/local/lib/python3.7/dist-packages/ipykernel_launcher.py:7: UserWarning: The use of `x.T` on tensors of dimension other than 2 to reverse their shape is deprecated and it will throw an error in a future release. Consider `x.mT` to transpose batches of matricesor `x.permute(*torch.arange(x.ndim - 1, -1, -1))` to reverse the dimensions of a tensor. (Triggered internally at  ../aten/src/ATen/native/TensorShape.cpp:2318.)\n",
            "  import sys\n"
          ]
        },
        {
          "output_type": "display_data",
          "data": {
            "text/plain": [
              "<Figure size 576x432 with 6 Axes>"
            ],
            "image/png": "[encoded data removed]"
          },
          "metadata": {
            "needs_background": "light"
          }
        }
      ]
    },
    {
      "cell_type": "code",
      "source": [
        "train_dl = DataLoader(train_data, batch_size = BATCH_SIZE)\n",
        "print(\"{} batches with {} batch size in train_dl\".format(len(train_dl), BATCH_SIZE))\n",
        "val_dl = DataLoader(val_data, batch_size = BATCH_SIZE)\n",
        "print(\"{} batches with {} batch size in val_dl\".format(len(val_dl), BATCH_SIZE))\n",
        "test_dl = DataLoader(test_data, batch_size = BATCH_SIZE)\n",
        "print(\"{} batches with {} batch size in test_dl\".format(len(test_dl), BATCH_SIZE))"
      ],
      "metadata": {
        "execution": {
          "iopub.status.busy": "2022-05-03T07:06:44.126058Z",
          "iopub.execute_input": "2022-05-03T07:06:44.126572Z",
          "iopub.status.idle": "2022-05-03T07:06:44.135677Z",
          "shell.execute_reply.started": "2022-05-03T07:06:44.126532Z",
          "shell.execute_reply": "2022-05-03T07:06:44.134939Z"
        },
        "trusted": true,
        "colab": {
          "base_uri": "https://localhost:8080/"
        },
        "id": "77uPGALJ4y1H",
        "outputId": "124bf20f-86fd-4742-fc1c-b5825c1514e2"
      },
      "execution_count": 13,
      "outputs": [
        {
          "output_type": "stream",
          "name": "stdout",
          "text": [
            "625 batches with 32 batch size in train_dl\n",
            "157 batches with 32 batch size in val_dl\n",
            "391 batches with 32 batch size in test_dl\n"
          ]
        }
      ]
    },
    {
      "cell_type": "markdown",
      "source": [
        "##2. Testing which batch size works for the current platform and if the training flow goes well"
      ],
      "metadata": {
        "id": "8UKdaPvFOSMU"
      }
    },
    {
      "cell_type": "code",
      "source": [
        "# Load a model\n",
        "model = models.resnet50(pretrained=False)\n",
        "num_ftrs = model.fc.in_features\n",
        "model.fc = nn.Linear(num_ftrs, 2)\n",
        "model = model.to(DEVICE)\n",
        "\n",
        "model.train()"
      ],
      "metadata": {
        "execution": {
          "iopub.status.busy": "2022-05-03T07:07:19.049985Z",
          "iopub.execute_input": "2022-05-03T07:07:19.050596Z",
          "iopub.status.idle": "2022-05-03T07:07:19.310817Z",
          "shell.execute_reply.started": "2022-05-03T07:07:19.050556Z",
          "shell.execute_reply": "2022-05-03T07:07:19.309707Z"
        },
        "trusted": true,
        "id": "RY3Q8F2S4y1I",
        "colab": {
          "base_uri": "https://localhost:8080/"
        },
        "outputId": "c87e42a8-c480-4a32-c2f1-90cb3de47069"
      },
      "execution_count": null,
      "outputs": [
        {
          "output_type": "execute_result",
          "data": {
            "text/plain": [
              "ResNet(\n",
              "  (conv1): Conv2d(3, 64, kernel_size=(7, 7), stride=(2, 2), padding=(3, 3), bias=False)\n",
              "  (bn1): BatchNorm2d(64, eps=1e-05, momentum=0.1, affine=True, track_running_stats=True)\n",
              "  (relu): ReLU(inplace=True)\n",
              "  (maxpool): MaxPool2d(kernel_size=3, stride=2, padding=1, dilation=1, ceil_mode=False)\n",
              "  (layer1): Sequential(\n",
              "    (0): Bottleneck(\n",
              "      (conv1): Conv2d(64, 64, kernel_size=(1, 1), stride=(1, 1), bias=False)\n",
              "      (bn1): BatchNorm2d(64, eps=1e-05, momentum=0.1, affine=True, track_running_stats=True)\n",
              "      (conv2): Conv2d(64, 64, kernel_size=(3, 3), stride=(1, 1), padding=(1, 1), bias=False)\n",
              "      (bn2): BatchNorm2d(64, eps=1e-05, momentum=0.1, affine=True, track_running_stats=True)\n",
              "      (conv3): Conv2d(64, 256, kernel_size=(1, 1), stride=(1, 1), bias=False)\n",
              "      (bn3): BatchNorm2d(256, eps=1e-05, momentum=0.1, affine=True, track_running_stats=True)\n",
              "      (relu): ReLU(inplace=True)\n",
              "      (downsample): Sequential(\n",
              "        (0): Conv2d(64, 256, kernel_size=(1, 1), stride=(1, 1), bias=False)\n",
              "        (1): BatchNorm2d(256, eps=1e-05, momentum=0.1, affine=True, track_running_stats=True)\n",
              "      )\n",
              "    )\n",
              "    (1): Bottleneck(\n",
              "      (conv1): Conv2d(256, 64, kernel_size=(1, 1), stride=(1, 1), bias=False)\n",
              "      (bn1): BatchNorm2d(64, eps=1e-05, momentum=0.1, affine=True, track_running_stats=True)\n",
              "      (conv2): Conv2d(64, 64, kernel_size=(3, 3), stride=(1, 1), padding=(1, 1), bias=False)\n",
              "      (bn2): BatchNorm2d(64, eps=1e-05, momentum=0.1, affine=True, track_running_stats=True)\n",
              "      (conv3): Conv2d(64, 256, kernel_size=(1, 1), stride=(1, 1), bias=False)\n",
              "      (bn3): BatchNorm2d(256, eps=1e-05, momentum=0.1, affine=True, track_running_stats=True)\n",
              "      (relu): ReLU(inplace=True)\n",
              "    )\n",
              "    (2): Bottleneck(\n",
              "      (conv1): Conv2d(256, 64, kernel_size=(1, 1), stride=(1, 1), bias=False)\n",
              "      (bn1): BatchNorm2d(64, eps=1e-05, momentum=0.1, affine=True, track_running_stats=True)\n",
              "      (conv2): Conv2d(64, 64, kernel_size=(3, 3), stride=(1, 1), padding=(1, 1), bias=False)\n",
              "      (bn2): BatchNorm2d(64, eps=1e-05, momentum=0.1, affine=True, track_running_stats=True)\n",
              "      (conv3): Conv2d(64, 256, kernel_size=(1, 1), stride=(1, 1), bias=False)\n",
              "      (bn3): BatchNorm2d(256, eps=1e-05, momentum=0.1, affine=True, track_running_stats=True)\n",
              "      (relu): ReLU(inplace=True)\n",
              "    )\n",
              "  )\n",
              "  (layer2): Sequential(\n",
              "    (0): Bottleneck(\n",
              "      (conv1): Conv2d(256, 128, kernel_size=(1, 1), stride=(1, 1), bias=False)\n",
              "      (bn1): BatchNorm2d(128, eps=1e-05, momentum=0.1, affine=True, track_running_stats=True)\n",
              "      (conv2): Conv2d(128, 128, kernel_size=(3, 3), stride=(2, 2), padding=(1, 1), bias=False)\n",
              "      (bn2): BatchNorm2d(128, eps=1e-05, momentum=0.1, affine=True, track_running_stats=True)\n",
              "      (conv3): Conv2d(128, 512, kernel_size=(1, 1), stride=(1, 1), bias=False)\n",
              "      (bn3): BatchNorm2d(512, eps=1e-05, momentum=0.1, affine=True, track_running_stats=True)\n",
              "      (relu): ReLU(inplace=True)\n",
              "      (downsample): Sequential(\n",
              "        (0): Conv2d(256, 512, kernel_size=(1, 1), stride=(2, 2), bias=False)\n",
              "        (1): BatchNorm2d(512, eps=1e-05, momentum=0.1, affine=True, track_running_stats=True)\n",
              "      )\n",
              "    )\n",
              "    (1): Bottleneck(\n",
              "      (conv1): Conv2d(512, 128, kernel_size=(1, 1), stride=(1, 1), bias=False)\n",
              "      (bn1): BatchNorm2d(128, eps=1e-05, momentum=0.1, affine=True, track_running_stats=True)\n",
              "      (conv2): Conv2d(128, 128, kernel_size=(3, 3), stride=(1, 1), padding=(1, 1), bias=False)\n",
              "      (bn2): BatchNorm2d(128, eps=1e-05, momentum=0.1, affine=True, track_running_stats=True)\n",
              "      (conv3): Conv2d(128, 512, kernel_size=(1, 1), stride=(1, 1), bias=False)\n",
              "      (bn3): BatchNorm2d(512, eps=1e-05, momentum=0.1, affine=True, track_running_stats=True)\n",
              "      (relu): ReLU(inplace=True)\n",
              "    )\n",
              "    (2): Bottleneck(\n",
              "      (conv1): Conv2d(512, 128, kernel_size=(1, 1), stride=(1, 1), bias=False)\n",
              "      (bn1): BatchNorm2d(128, eps=1e-05, momentum=0.1, affine=True, track_running_stats=True)\n",
              "      (conv2): Conv2d(128, 128, kernel_size=(3, 3), stride=(1, 1), padding=(1, 1), bias=False)\n",
              "      (bn2): BatchNorm2d(128, eps=1e-05, momentum=0.1, affine=True, track_running_stats=True)\n",
              "      (conv3): Conv2d(128, 512, kernel_size=(1, 1), stride=(1, 1), bias=False)\n",
              "      (bn3): BatchNorm2d(512, eps=1e-05, momentum=0.1, affine=True, track_running_stats=True)\n",
              "      (relu): ReLU(inplace=True)\n",
              "    )\n",
              "    (3): Bottleneck(\n",
              "      (conv1): Conv2d(512, 128, kernel_size=(1, 1), stride=(1, 1), bias=False)\n",
              "      (bn1): BatchNorm2d(128, eps=1e-05, momentum=0.1, affine=True, track_running_stats=True)\n",
              "      (conv2): Conv2d(128, 128, kernel_size=(3, 3), stride=(1, 1), padding=(1, 1), bias=False)\n",
              "      (bn2): BatchNorm2d(128, eps=1e-05, momentum=0.1, affine=True, track_running_stats=True)\n",
              "      (conv3): Conv2d(128, 512, kernel_size=(1, 1), stride=(1, 1), bias=False)\n",
              "      (bn3): BatchNorm2d(512, eps=1e-05, momentum=0.1, affine=True, track_running_stats=True)\n",
              "      (relu): ReLU(inplace=True)\n",
              "    )\n",
              "  )\n",
              "  (layer3): Sequential(\n",
              "    (0): Bottleneck(\n",
              "      (conv1): Conv2d(512, 256, kernel_size=(1, 1), stride=(1, 1), bias=False)\n",
              "      (bn1): BatchNorm2d(256, eps=1e-05, momentum=0.1, affine=True, track_running_stats=True)\n",
              "      (conv2): Conv2d(256, 256, kernel_size=(3, 3), stride=(2, 2), padding=(1, 1), bias=False)\n",
              "      (bn2): BatchNorm2d(256, eps=1e-05, momentum=0.1, affine=True, track_running_stats=True)\n",
              "      (conv3): Conv2d(256, 1024, kernel_size=(1, 1), stride=(1, 1), bias=False)\n",
              "      (bn3): BatchNorm2d(1024, eps=1e-05, momentum=0.1, affine=True, track_running_stats=True)\n",
              "      (relu): ReLU(inplace=True)\n",
              "      (downsample): Sequential(\n",
              "        (0): Conv2d(512, 1024, kernel_size=(1, 1), stride=(2, 2), bias=False)\n",
              "        (1): BatchNorm2d(1024, eps=1e-05, momentum=0.1, affine=True, track_running_stats=True)\n",
              "      )\n",
              "    )\n",
              "    (1): Bottleneck(\n",
              "      (conv1): Conv2d(1024, 256, kernel_size=(1, 1), stride=(1, 1), bias=False)\n",
              "      (bn1): BatchNorm2d(256, eps=1e-05, momentum=0.1, affine=True, track_running_stats=True)\n",
              "      (conv2): Conv2d(256, 256, kernel_size=(3, 3), stride=(1, 1), padding=(1, 1), bias=False)\n",
              "      (bn2): BatchNorm2d(256, eps=1e-05, momentum=0.1, affine=True, track_running_stats=True)\n",
              "      (conv3): Conv2d(256, 1024, kernel_size=(1, 1), stride=(1, 1), bias=False)\n",
              "      (bn3): BatchNorm2d(1024, eps=1e-05, momentum=0.1, affine=True, track_running_stats=True)\n",
              "      (relu): ReLU(inplace=True)\n",
              "    )\n",
              "    (2): Bottleneck(\n",
              "      (conv1): Conv2d(1024, 256, kernel_size=(1, 1), stride=(1, 1), bias=False)\n",
              "      (bn1): BatchNorm2d(256, eps=1e-05, momentum=0.1, affine=True, track_running_stats=True)\n",
              "      (conv2): Conv2d(256, 256, kernel_size=(3, 3), stride=(1, 1), padding=(1, 1), bias=False)\n",
              "      (bn2): BatchNorm2d(256, eps=1e-05, momentum=0.1, affine=True, track_running_stats=True)\n",
              "      (conv3): Conv2d(256, 1024, kernel_size=(1, 1), stride=(1, 1), bias=False)\n",
              "      (bn3): BatchNorm2d(1024, eps=1e-05, momentum=0.1, affine=True, track_running_stats=True)\n",
              "      (relu): ReLU(inplace=True)\n",
              "    )\n",
              "    (3): Bottleneck(\n",
              "      (conv1): Conv2d(1024, 256, kernel_size=(1, 1), stride=(1, 1), bias=False)\n",
              "      (bn1): BatchNorm2d(256, eps=1e-05, momentum=0.1, affine=True, track_running_stats=True)\n",
              "      (conv2): Conv2d(256, 256, kernel_size=(3, 3), stride=(1, 1), padding=(1, 1), bias=False)\n",
              "      (bn2): BatchNorm2d(256, eps=1e-05, momentum=0.1, affine=True, track_running_stats=True)\n",
              "      (conv3): Conv2d(256, 1024, kernel_size=(1, 1), stride=(1, 1), bias=False)\n",
              "      (bn3): BatchNorm2d(1024, eps=1e-05, momentum=0.1, affine=True, track_running_stats=True)\n",
              "      (relu): ReLU(inplace=True)\n",
              "    )\n",
              "    (4): Bottleneck(\n",
              "      (conv1): Conv2d(1024, 256, kernel_size=(1, 1), stride=(1, 1), bias=False)\n",
              "      (bn1): BatchNorm2d(256, eps=1e-05, momentum=0.1, affine=True, track_running_stats=True)\n",
              "      (conv2): Conv2d(256, 256, kernel_size=(3, 3), stride=(1, 1), padding=(1, 1), bias=False)\n",
              "      (bn2): BatchNorm2d(256, eps=1e-05, momentum=0.1, affine=True, track_running_stats=True)\n",
              "      (conv3): Conv2d(256, 1024, kernel_size=(1, 1), stride=(1, 1), bias=False)\n",
              "      (bn3): BatchNorm2d(1024, eps=1e-05, momentum=0.1, affine=True, track_running_stats=True)\n",
              "      (relu): ReLU(inplace=True)\n",
              "    )\n",
              "    (5): Bottleneck(\n",
              "      (conv1): Conv2d(1024, 256, kernel_size=(1, 1), stride=(1, 1), bias=False)\n",
              "      (bn1): BatchNorm2d(256, eps=1e-05, momentum=0.1, affine=True, track_running_stats=True)\n",
              "      (conv2): Conv2d(256, 256, kernel_size=(3, 3), stride=(1, 1), padding=(1, 1), bias=False)\n",
              "      (bn2): BatchNorm2d(256, eps=1e-05, momentum=0.1, affine=True, track_running_stats=True)\n",
              "      (conv3): Conv2d(256, 1024, kernel_size=(1, 1), stride=(1, 1), bias=False)\n",
              "      (bn3): BatchNorm2d(1024, eps=1e-05, momentum=0.1, affine=True, track_running_stats=True)\n",
              "      (relu): ReLU(inplace=True)\n",
              "    )\n",
              "  )\n",
              "  (layer4): Sequential(\n",
              "    (0): Bottleneck(\n",
              "      (conv1): Conv2d(1024, 512, kernel_size=(1, 1), stride=(1, 1), bias=False)\n",
              "      (bn1): BatchNorm2d(512, eps=1e-05, momentum=0.1, affine=True, track_running_stats=True)\n",
              "      (conv2): Conv2d(512, 512, kernel_size=(3, 3), stride=(2, 2), padding=(1, 1), bias=False)\n",
              "      (bn2): BatchNorm2d(512, eps=1e-05, momentum=0.1, affine=True, track_running_stats=True)\n",
              "      (conv3): Conv2d(512, 2048, kernel_size=(1, 1), stride=(1, 1), bias=False)\n",
              "      (bn3): BatchNorm2d(2048, eps=1e-05, momentum=0.1, affine=True, track_running_stats=True)\n",
              "      (relu): ReLU(inplace=True)\n",
              "      (downsample): Sequential(\n",
              "        (0): Conv2d(1024, 2048, kernel_size=(1, 1), stride=(2, 2), bias=False)\n",
              "        (1): BatchNorm2d(2048, eps=1e-05, momentum=0.1, affine=True, track_running_stats=True)\n",
              "      )\n",
              "    )\n",
              "    (1): Bottleneck(\n",
              "      (conv1): Conv2d(2048, 512, kernel_size=(1, 1), stride=(1, 1), bias=False)\n",
              "      (bn1): BatchNorm2d(512, eps=1e-05, momentum=0.1, affine=True, track_running_stats=True)\n",
              "      (conv2): Conv2d(512, 512, kernel_size=(3, 3), stride=(1, 1), padding=(1, 1), bias=False)\n",
              "      (bn2): BatchNorm2d(512, eps=1e-05, momentum=0.1, affine=True, track_running_stats=True)\n",
              "      (conv3): Conv2d(512, 2048, kernel_size=(1, 1), stride=(1, 1), bias=False)\n",
              "      (bn3): BatchNorm2d(2048, eps=1e-05, momentum=0.1, affine=True, track_running_stats=True)\n",
              "      (relu): ReLU(inplace=True)\n",
              "    )\n",
              "    (2): Bottleneck(\n",
              "      (conv1): Conv2d(2048, 512, kernel_size=(1, 1), stride=(1, 1), bias=False)\n",
              "      (bn1): BatchNorm2d(512, eps=1e-05, momentum=0.1, affine=True, track_running_stats=True)\n",
              "      (conv2): Conv2d(512, 512, kernel_size=(3, 3), stride=(1, 1), padding=(1, 1), bias=False)\n",
              "      (bn2): BatchNorm2d(512, eps=1e-05, momentum=0.1, affine=True, track_running_stats=True)\n",
              "      (conv3): Conv2d(512, 2048, kernel_size=(1, 1), stride=(1, 1), bias=False)\n",
              "      (bn3): BatchNorm2d(2048, eps=1e-05, momentum=0.1, affine=True, track_running_stats=True)\n",
              "      (relu): ReLU(inplace=True)\n",
              "    )\n",
              "  )\n",
              "  (avgpool): AdaptiveAvgPool2d(output_size=(1, 1))\n",
              "  (fc): Linear(in_features=2048, out_features=2, bias=True)\n",
              ")"
            ]
          },
          "metadata": {},
          "execution_count": 49
        }
      ]
    },
    {
      "cell_type": "code",
      "source": [
        "optimizer = torch.optim.Adam(params = model.parameters(),lr=0.01)\n",
        "criterion = nn.CrossEntropyLoss()"
      ],
      "metadata": {
        "execution": {
          "iopub.status.busy": "2022-05-03T07:05:47.678273Z",
          "iopub.execute_input": "2022-05-03T07:05:47.678637Z",
          "iopub.status.idle": "2022-05-03T07:05:47.683984Z",
          "shell.execute_reply.started": "2022-05-03T07:05:47.678603Z",
          "shell.execute_reply": "2022-05-03T07:05:47.683039Z"
        },
        "trusted": true,
        "id": "5Rsy0bRW4y1J"
      },
      "execution_count": null,
      "outputs": []
    },
    {
      "cell_type": "markdown",
      "source": [
        "Testing if input and output comes out properly"
      ],
      "metadata": {
        "id": "0fJ7-6VOy-XW"
      }
    },
    {
      "cell_type": "code",
      "source": [
        "epoch_loss = 0\n",
        "epoch_acc = 0\n",
        "\n",
        "a_img, a_label = next(iter(train_dl))\n",
        "a_img = a_img.to(DEVICE)\n",
        "a_label = a_label.to(DEVICE)\n",
        "\n",
        "output = model(a_img)\n",
        "print(\"Output in shape: \", output.shape)\n",
        "print(\"Output\")\n",
        "print(output.argmax(dim=1))\n",
        "print(\"Correct Label\")\n",
        "print(a_label)\n",
        "\n",
        "loss = criterion(output, a_label)\n",
        "print(\"Loss: \", loss.item())\n",
        "\n",
        "acc = (output.argmax(dim=1) == a_label).sum().item()\n",
        "print(\"Correctness: \", acc, \", Accuracy: \", acc/len(a_img))\n",
        "\n",
        "epoch_loss = loss.item()\n",
        "epoch_acc = acc\n",
        "\n",
        "optimizer.zero_grad()\n",
        "loss.backward()\n",
        "optimizer.step()\n",
        "\n",
        "print('Epoch : {}, train accuracy : {}, train loss : {}'.format(1, epoch_acc, epoch_loss))"
      ],
      "metadata": {
        "id": "Ow9woq-7A_yx",
        "colab": {
          "base_uri": "https://localhost:8080/"
        },
        "outputId": "a081f586-ad51-461d-de75-ed5925058956"
      },
      "execution_count": null,
      "outputs": [
        {
          "output_type": "stream",
          "name": "stdout",
          "text": [
            "Output in shape:  torch.Size([32, 2])\n",
            "Output\n",
            "tensor([1, 1, 1, 1, 1, 1, 1, 1, 1, 1, 1, 1, 1, 1, 1, 1, 1, 1, 1, 1, 1, 1, 1, 1,\n",
            "        1, 1, 1, 1, 1, 1, 1, 1], device='cuda:0')\n",
            "Correct Label\n",
            "tensor([1, 0, 0, 1, 1, 0, 1, 0, 1, 1, 1, 1, 1, 0, 0, 0, 1, 1, 1, 0, 1, 1, 0, 0,\n",
            "        1, 1, 0, 0, 0, 1, 0, 0], device='cuda:0')\n",
            "Loss:  0.6445540189743042\n",
            "Correctness:  17 , Accuracy:  0.53125\n",
            "Epoch : 1, train accuracy : 17, train loss : 0.6445540189743042\n"
          ]
        }
      ]
    },
    {
      "cell_type": "markdown",
      "source": [
        "##3. Hyper-parameter tuning study"
      ],
      "metadata": {
        "id": "RHsVfqWOt9hw"
      }
    },
    {
      "cell_type": "markdown",
      "source": [
        "### Define Train and Evaluate Function for Study"
      ],
      "metadata": {
        "id": "lm84PsB0jtb7"
      }
    },
    {
      "cell_type": "code",
      "source": [
        "# Train and evaluate the accuarcy of neural network model\n",
        "def train_and_evaluate(train_dl, val_dl, train_len, val_len, params, model, trial):\n",
        "\n",
        "    criterion = nn.CrossEntropyLoss()\n",
        "    # Configure optimizer\n",
        "    optimizer = getattr(torch.optim, params[\"optimizer_name\"])(model.parameters(), lr=params[\"learning_rate\"])\n",
        "\n",
        "    for epoch_num in range(10):\n",
        "        epoch_loss = 0\n",
        "        epoch_acc = 0\n",
        "\n",
        "        for train_img, train_label in train_dl:\n",
        "\n",
        "            train_img = train_img.to(DEVICE)\n",
        "            train_label = train_label.to(DEVICE)\n",
        "            \n",
        "            # Forward\n",
        "            train_output = model(train_img)\n",
        "            train_loss = criterion(train_output, train_label)\n",
        "            train_acc = (train_output.argmax(dim=1) == train_label).sum().item()\n",
        "            \n",
        "            epoch_loss += train_loss.item()\n",
        "            epoch_acc += train_acc\n",
        "            \n",
        "            # Backward\n",
        "            optimizer.zero_grad()\n",
        "            train_loss.backward()\n",
        "            \n",
        "            # Gradient Descent or Adam step\n",
        "            optimizer.step()\n",
        "\n",
        "    \n",
        "        with torch.no_grad():\n",
        "            epoch_val_acc = 0\n",
        "            epoch_val_loss = 0\n",
        "            \n",
        "            for img, label in val_dl:\n",
        "                img = img.to(DEVICE)\n",
        "                label = label.to(DEVICE)\n",
        "                \n",
        "                val_output = model(img)\n",
        "                val_loss = criterion(val_output, label)\n",
        "                val_acc = (val_output.argmax(dim=1) == label).sum().item()\n",
        "                \n",
        "                epoch_val_acc += val_acc\n",
        "                epoch_val_loss += val_loss\n",
        "            \n",
        "        accuracy = epoch_val_acc/val_len\n",
        "            \n",
        "        # Add prune mechanism\n",
        "        trial.report(accuracy, epoch_num)\n",
        "\n",
        "        if trial.should_prune():\n",
        "            raise optuna.exceptions.TrialPruned()\n",
        "\n",
        "    return accuracy"
      ],
      "metadata": {
        "id": "2dIxbGZ34y1L"
      },
      "execution_count": null,
      "outputs": []
    },
    {
      "cell_type": "markdown",
      "source": [
        "### Run a study with a selected model"
      ],
      "metadata": {
        "id": "Q6N5V_FkvWrf"
      }
    },
    {
      "cell_type": "code",
      "source": [
        "# Define a set of hyperparameter values, build the model, train the model, and evaluate the accuracy \n",
        "def objective(trial):\n",
        "\n",
        "    params = {\n",
        "              'learning_rate': trial.suggest_loguniform('learning_rate', 1e-4, 1e-1),\n",
        "              'optimizer_name': trial.suggest_categorical(\"optimizer_name\", [\"Adam\", \"RMSprop\", \"SGD\"]),\n",
        "              }\n",
        "\n",
        "    # Get a model\n",
        "    model = models.resnet50(pretrained=False, num_classes=2).to(DEVICE)\n",
        "    \n",
        "    accuracy = train_and_evaluate(train_dl, val_dl, len(train_list), len(val_list), params, model, trial)\n",
        "\n",
        "    return accuracy"
      ],
      "metadata": {
        "id": "CNQb02JsvXHK"
      },
      "execution_count": null,
      "outputs": []
    },
    {
      "cell_type": "code",
      "source": [
        "study = optuna.create_study(direction=\"maximize\", sampler=optuna.samplers.TPESampler())\n",
        "study.optimize(objective, n_trials=20)"
      ],
      "metadata": {
        "id": "qtuZ0uSlvfwy"
      },
      "execution_count": null,
      "outputs": []
    },
    {
      "cell_type": "code",
      "source": [
        "best_trial = study.best_trial\n",
        "print(\"Best Trial with Parameters\")\n",
        "for key, value in best_trial.params.items():\n",
        "    print(\"  {}: {}\".format(key, value))"
      ],
      "metadata": {
        "id": "yisg4t-QvjBc"
      },
      "execution_count": null,
      "outputs": []
    },
    {
      "cell_type": "code",
      "source": [
        "fig = optuna.visualization.plot_intermediate_values(study)\n",
        "fig.show()"
      ],
      "metadata": {
        "id": "Lj1OgpeLvkaX"
      },
      "execution_count": null,
      "outputs": []
    },
    {
      "cell_type": "code",
      "source": [
        "fig = optuna.visualization.plot_optimization_history(study)\n",
        "fig.show()"
      ],
      "metadata": {
        "id": "mh0xgJxQvkdB"
      },
      "execution_count": null,
      "outputs": []
    },
    {
      "cell_type": "code",
      "source": [
        "fig = optuna.visualization.plot_parallel_coordinate(study)\n",
        "fig.show()"
      ],
      "metadata": {
        "id": "DcbkMWsMvkhR"
      },
      "execution_count": null,
      "outputs": []
    },
    {
      "cell_type": "code",
      "source": [
        "fig = optuna.visualization.plot_param_importances(study)\n",
        "fig.show()"
      ],
      "metadata": {
        "id": "zky8XtVBvkj7"
      },
      "execution_count": null,
      "outputs": []
    },
    {
      "cell_type": "code",
      "source": [
        "fig = optuna.visualization.plot_slice(study)\n",
        "fig.show()"
      ],
      "metadata": {
        "id": "FOhYAxn8vklD"
      },
      "execution_count": null,
      "outputs": []
    },
    {
      "cell_type": "code",
      "source": [
        "joblib.dump(study, \"study_dogs_cats_resnet50_220505.pkl\")"
      ],
      "metadata": {
        "id": "6xWBPTvTvqMf"
      },
      "execution_count": null,
      "outputs": []
    },
    {
      "cell_type": "code",
      "source": [
        "loaded_study = joblib.load(\"study_dogs_cats_resnet50_220505.pkl\")\n",
        "print(\"Best trial until now:\")\n",
        "print(\" Value: \", loaded_study.best_trial.value)\n",
        "print(\" Params: \")\n",
        "for key, value in loaded_study.best_trial.params.items():\n",
        "    print(f\"    {key}: {value}\")"
      ],
      "metadata": {
        "id": "vQnEakIXvtsk"
      },
      "execution_count": null,
      "outputs": []
    },
    {
      "cell_type": "markdown",
      "source": [
        "##4. Train Model"
      ],
      "metadata": {
        "id": "4bvkEasnHHPL"
      }
    },
    {
      "cell_type": "markdown",
      "source": [
        "### Define Train and Test Functions"
      ],
      "metadata": {
        "id": "tLrTvEvUHSQY"
      }
    },
    {
      "cell_type": "code",
      "source": [
        "def train_model(model, model_path, res_path, criterion, optimizer, scheduler, num_epochs=1):\n",
        "    print(\"Training...\")\n",
        "    since = time.time()\n",
        "\n",
        "    best_model_state = copy.deepcopy(model.state_dict())\n",
        "    best_acc = 0.0\n",
        "\n",
        "    res = {}\n",
        "    \n",
        "    for epoch in range(num_epochs):\n",
        "        print(f'Epoch {epoch+1}/{num_epochs}')\n",
        "        print('-' * 10)\n",
        "\n",
        "        epoch_loss = 0.0\n",
        "        epoch_acc = 0.0\n",
        "        epoch_correct = 0\n",
        "        \n",
        "        for idx, (img, label) in enumerate(train_dl):\n",
        "            img = img.to(DEVICE)\n",
        "            label = label.to(DEVICE)\n",
        "            \n",
        "            # Forward\n",
        "            output = model(img)\n",
        "            loss = criterion(output, label)\n",
        "            acc = (output.argmax(dim=1) == label).sum().item()\n",
        "            \n",
        "            # Backward\n",
        "            optimizer.zero_grad()\n",
        "            loss.backward()\n",
        "            \n",
        "            # Gradient Descent or Adam step\n",
        "            optimizer.step()\n",
        "            \n",
        "            epoch_loss += (loss.item()/len(train_data))\n",
        "            epoch_acc += (acc/len(train_data))\n",
        "            \n",
        "        print(f'Train Loss: {epoch_loss:.4f}, Accuracy: {epoch_acc:.4f}')\n",
        "        res[epoch+1] = {\"Train_Loss\": epoch_loss, \n",
        "                        \"Train_Acc\": epoch_acc}\n",
        "        scheduler.step()\n",
        "\n",
        "        with torch.no_grad():\n",
        "            epoch_val_acc = 0.0\n",
        "            epoch_val_loss = 0.0\n",
        "            epoch_val_correct = 0\n",
        "            \n",
        "            for img, label in val_dl:\n",
        "                img = img.to(DEVICE)\n",
        "                label = label.to(DEVICE)\n",
        "                \n",
        "                val_output = model(img)\n",
        "                val_loss = criterion(val_output, label)\n",
        "                val_acc = (val_output.argmax(dim=1) == label).sum().item()\n",
        "                \n",
        "                epoch_val_acc += (val_acc/len(val_data))\n",
        "                epoch_val_loss += (val_loss.item()/len(val_data))\n",
        "                \n",
        "            print(f'Validation Loss: {epoch_val_loss:.4f}, Accuracy: {epoch_val_acc:.4f}')\n",
        "            res[epoch+1] = {\"Val_Loss\": epoch_val_loss, \n",
        "                            \"Val_Acc\": epoch_val_acc}\n",
        "        \n",
        "            if epoch_val_acc > best_acc:\n",
        "                best_acc = epoch_val_acc\n",
        "                best_model_state = copy.deepcopy(model.state_dict())\n",
        "                if not os.path.isdir(\"model\"):\n",
        "                    os.mkdir(\"model\")\n",
        "                torch.save(model.state_dict(), model_path)\n",
        "                print(\"Model Saved\")\n",
        "    \n",
        "    # When Training is completed\n",
        "    time_elapsed = time.time() - since\n",
        "    print(f'Train completed in {time_elapsed//60:.0f}m {time_elapsed%60:.0f}s')\n",
        "    print(f'Best Val Accuracy: {best_acc:.4f}')\n",
        "\n",
        "    # Save result in pickle\n",
        "    with open(res_path, 'wb') as f:\n",
        "        pickle.dump(res, f)\n",
        "    \n",
        "    # Return the model with weights of the best accuracy\n",
        "    model.load_state_dict(best_model_state)\n",
        "    return model\n"
      ],
      "metadata": {
        "id": "i1OAnkKBQY0j"
      },
      "execution_count": 14,
      "outputs": []
    },
    {
      "cell_type": "code",
      "source": [
        "def test_model(model, model_path):\n",
        "    print(\"Testing...\")\n",
        "    since = time.time()  \n",
        "    total_correct = 0\n",
        "\n",
        "    # Load Model\n",
        "    model.load_state_dict(torch.load(model_path))\n",
        "\n",
        "    with torch.no_grad():\n",
        "        for img, label in test_dl:\n",
        "            img = img.to(DEVICE)\n",
        "            label = label.to(DEVICE)\n",
        "            output = model(img)\n",
        "\n",
        "            acc = (output.argmax(dim=1) == label).sum().item()\n",
        "            total_correct += acc\n",
        "\n",
        "    # When Testing is completed\n",
        "    time_elapsed = time.time() - since\n",
        "    print(f'Test completed in {time_elapsed//60:.0f}m {time_elapsed%60:.0f}s')\n",
        "    print(f'Test Accuracy: {total_correct/len(test_data):.4f}')\n"
      ],
      "metadata": {
        "id": "t9S2MmnbDOBR"
      },
      "execution_count": 15,
      "outputs": []
    },
    {
      "cell_type": "markdown",
      "source": [
        "### Custom CNN"
      ],
      "metadata": {
        "id": "vbwRywIdZLmc"
      }
    },
    {
      "cell_type": "markdown",
      "source": [
        "Calculate the number of nodes before the Linear Layer, which will transformed into the number of classes for its output"
      ],
      "metadata": {
        "id": "aRfU2oB9wHc-"
      }
    },
    {
      "cell_type": "code",
      "source": [
        "import math \n",
        "def afterConv(n_in, k, p, s):\n",
        "    n_out = int(math.ceil((n_in + 2*p - k)/s))+1\n",
        "    return n_out\n",
        "\n",
        "n_in = 224\n",
        "k, p, s = 3, 1, 1\n",
        "n_in = afterConv(n_in, k, p, s)\n",
        "print(\"After first Convolutional Layer: {}\".format(n_in))\n",
        "\n",
        "k, p, s = 2, 0, 2\n",
        "n_in = afterConv(n_in, k, p, s)\n",
        "print(\"After max pooling Layer: {}\".format(n_in))\n",
        "\n",
        "k, p, s = 3, 1, 1\n",
        "n_in = afterConv(n_in, k, p, s)\n",
        "print(\"After second Convolutional Layer: {}\".format(n_in))\n",
        "\n",
        "k, p, s = 2, 0, 2\n",
        "n_in = afterConv(n_in, k, p, s)\n",
        "print(\"After max pooling Layer: {}\".format(n_in))"
      ],
      "metadata": {
        "colab": {
          "base_uri": "https://localhost:8080/"
        },
        "id": "pqy-4GcfwGKn",
        "outputId": "198f0118-a826-41b8-e79a-d934a17b3f4d"
      },
      "execution_count": null,
      "outputs": [
        {
          "output_type": "stream",
          "name": "stdout",
          "text": [
            "After first Convolutional Layer: 224\n",
            "After max pooling Layer: 112\n",
            "After second Convolutional Layer: 112\n",
            "After max pooling Layer: 56\n"
          ]
        }
      ]
    },
    {
      "cell_type": "markdown",
      "source": [
        "Typical Convolution neural network consists of\n",
        "\n",
        "[INPUT] \n",
        "\n",
        "→[CONV 1] → [BATCH NORM] → [ReLU] → [POOL 1]\n",
        "\n",
        "→ [CONV 2] → [BATCH NORM] → [ReLU] → [POOL 2]\n",
        "\n",
        "→ [FC LAYER] → [RESULT]\n",
        "\n",
        "Mishra, Mayank (2020) Convolutional Neural Networks, Explained [Source code]. https://towardsdatascience.com/convolutional-neural-networks-explained-9cc5188c4939"
      ],
      "metadata": {
        "id": "yujnLAqmx-gB"
      }
    },
    {
      "cell_type": "code",
      "source": [
        "import torch\n",
        "import torch.nn as nn\n",
        "import torch.nn.functional as F\n",
        "\n",
        "class Cnn(nn.Module):\n",
        "    def __init__(self, in_channels = 3, num_classes = 2, image_size = 224):\n",
        "        super(Cnn, self).__init__()\n",
        "\n",
        "        self.layer1 = nn.Sequential(\n",
        "            nn.Conv2d(in_channels, out_channels=16, kernel_size=3, stride=1, padding=1),\n",
        "            nn.BatchNorm2d(16),\n",
        "            nn.ReLU(),\n",
        "        )\n",
        "\n",
        "        self.layer2 = nn.Sequential(\n",
        "            nn.Conv2d(in_channels=16, out_channels=32, kernel_size = 3, stride=1, padding=1),\n",
        "            nn.BatchNorm2d(32),\n",
        "            nn.ReLU(),\n",
        "            )\n",
        "\n",
        "        self.pool = nn.MaxPool2d(kernel_size=2, stride=2)\n",
        "        self.flatten = nn.Flatten()\n",
        "        self.fc1 = nn.Linear(32*56*56, num_classes)\n",
        "\n",
        "\n",
        "    def forward(self, x):\n",
        "        out = self.layer1(x)\n",
        "        out = self.pool(out)\n",
        "        out = self.layer2(out)\n",
        "        out = self.pool(out)\n",
        "        out = self.flatten(out) # or x = x.reshape(x.shape[0], -1) without flatten layer\n",
        "        out = self.fc1(out)\n",
        "\n",
        "        return out"
      ],
      "metadata": {
        "id": "g01i-OxIZNxi"
      },
      "execution_count": 16,
      "outputs": []
    },
    {
      "cell_type": "code",
      "source": [
        "model_name = \"customCNN\"\n",
        "LR = 0.001\n",
        "EPOCHS = 20\n",
        "\n",
        "# Load a model\n",
        "model = Cnn(in_channels = 3, num_classes = 2, image_size = IMG_SIZE).to(DEVICE)\n",
        "\n",
        "# Define an optimizer\n",
        "optimizer = torch.optim.Adam(model.parameters(), lr=LR)\n",
        "\n",
        "# Scheduler: Update learning rate: Every 5 epochs update Learning rate by multiply by 0.1\n",
        "scheduler = torch.optim.lr_scheduler.StepLR(optimizer, step_size=7, gamma=0.1)\n",
        "\n",
        "# Define a loss function\n",
        "criterion = nn.CrossEntropyLoss()\n",
        "\n",
        "# Define a path to save the trained model\n",
        "model_save_path = './model/'+model_name+'.pt'\n",
        "result_save_path = './result/'+model_name+'.pkl'"
      ],
      "metadata": {
        "id": "VaUoCJhkZYB5"
      },
      "execution_count": null,
      "outputs": []
    },
    {
      "cell_type": "code",
      "source": [
        "# Train\n",
        "model = train_model(model, model_save_path, result_save_path, criterion, optimizer, scheduler, EPOCHS)"
      ],
      "metadata": {
        "colab": {
          "base_uri": "https://localhost:8080/"
        },
        "id": "XyHCC0DCbBa5",
        "outputId": "0775cb5a-19d2-4f3e-f777-edabc2ecd1c6"
      },
      "execution_count": null,
      "outputs": [
        {
          "output_type": "stream",
          "name": "stdout",
          "text": [
            "Training...\n",
            "Epoch 1/20\n",
            "----------\n",
            "Train Loss: 0.0857, Accuracy: 0.5390\n",
            "Validation Loss: 0.0342, Accuracy: 0.5804\n",
            "Model Saved\n",
            "Epoch 2/20\n",
            "----------\n",
            "Train Loss: 0.0320, Accuracy: 0.5596\n",
            "Validation Loss: 0.0241, Accuracy: 0.5858\n",
            "Model Saved\n",
            "Epoch 3/20\n",
            "----------\n",
            "Train Loss: 0.0216, Accuracy: 0.5940\n",
            "Validation Loss: 0.0206, Accuracy: 0.6158\n",
            "Model Saved\n",
            "Epoch 4/20\n",
            "----------\n",
            "Train Loss: 0.0201, Accuracy: 0.6239\n",
            "Validation Loss: 0.0199, Accuracy: 0.6270\n",
            "Model Saved\n",
            "Epoch 5/20\n",
            "----------\n",
            "Train Loss: 0.0200, Accuracy: 0.6360\n",
            "Validation Loss: 0.0201, Accuracy: 0.6226\n",
            "Epoch 6/20\n",
            "----------\n",
            "Train Loss: 0.0196, Accuracy: 0.6468\n",
            "Validation Loss: 0.0197, Accuracy: 0.6456\n",
            "Model Saved\n",
            "Epoch 7/20\n",
            "----------\n",
            "Train Loss: 0.0192, Accuracy: 0.6653\n",
            "Validation Loss: 0.0191, Accuracy: 0.6700\n",
            "Model Saved\n",
            "Epoch 8/20\n",
            "----------\n",
            "Train Loss: 0.0184, Accuracy: 0.6801\n",
            "Validation Loss: 0.0181, Accuracy: 0.6912\n",
            "Model Saved\n",
            "Epoch 9/20\n",
            "----------\n",
            "Train Loss: 0.0180, Accuracy: 0.6952\n",
            "Validation Loss: 0.0177, Accuracy: 0.7050\n",
            "Model Saved\n",
            "Epoch 10/20\n",
            "----------\n",
            "Train Loss: 0.0179, Accuracy: 0.6973\n",
            "Validation Loss: 0.0178, Accuracy: 0.6976\n",
            "Epoch 11/20\n",
            "----------\n",
            "Train Loss: 0.0178, Accuracy: 0.6994\n",
            "Validation Loss: 0.0179, Accuracy: 0.6992\n",
            "Epoch 12/20\n",
            "----------\n",
            "Train Loss: 0.0177, Accuracy: 0.7006\n",
            "Validation Loss: 0.0176, Accuracy: 0.7074\n",
            "Model Saved\n",
            "Epoch 13/20\n",
            "----------\n",
            "Train Loss: 0.0174, Accuracy: 0.7095\n",
            "Validation Loss: 0.0179, Accuracy: 0.7030\n",
            "Epoch 14/20\n",
            "----------\n",
            "Train Loss: 0.0173, Accuracy: 0.7139\n",
            "Validation Loss: 0.0172, Accuracy: 0.7202\n",
            "Model Saved\n",
            "Epoch 15/20\n",
            "----------\n",
            "Train Loss: 0.0172, Accuracy: 0.7210\n",
            "Validation Loss: 0.0173, Accuracy: 0.7164\n",
            "Epoch 16/20\n",
            "----------\n",
            "Train Loss: 0.0169, Accuracy: 0.7214\n",
            "Validation Loss: 0.0168, Accuracy: 0.7258\n",
            "Model Saved\n",
            "Epoch 17/20\n",
            "----------\n",
            "Train Loss: 0.0171, Accuracy: 0.7184\n",
            "Validation Loss: 0.0171, Accuracy: 0.7096\n",
            "Epoch 18/20\n",
            "----------\n",
            "Train Loss: 0.0169, Accuracy: 0.7261\n",
            "Validation Loss: 0.0174, Accuracy: 0.7144\n",
            "Epoch 19/20\n",
            "----------\n",
            "Train Loss: 0.0171, Accuracy: 0.7197\n",
            "Validation Loss: 0.0171, Accuracy: 0.7216\n",
            "Epoch 20/20\n",
            "----------\n",
            "Train Loss: 0.0168, Accuracy: 0.7244\n",
            "Validation Loss: 0.0173, Accuracy: 0.7090\n",
            "Train completed in 152m 35s\n",
            "Best Val Accuracy: 0.7258\n"
          ]
        }
      ]
    },
    {
      "cell_type": "code",
      "source": [
        "# Test\n",
        "test_model(model, model_save_path)"
      ],
      "metadata": {
        "colab": {
          "base_uri": "https://localhost:8080/"
        },
        "id": "NZ7Wjs5FbGlN",
        "outputId": "66ab6f72-cfb9-4e2a-d1d9-b74351bca76c"
      },
      "execution_count": null,
      "outputs": [
        {
          "output_type": "stream",
          "name": "stdout",
          "text": [
            "Testing...\n",
            "Test completed in 45m 48s\n",
            "Test Accuracy: 0.5262\n"
          ]
        }
      ]
    },
    {
      "cell_type": "markdown",
      "source": [
        "### Resnet50 (without Transfer Learning)"
      ],
      "metadata": {
        "id": "95938L-rj1Ln"
      }
    },
    {
      "cell_type": "code",
      "source": [
        "model_name = \"resnet50\"\n",
        "LR = 0.001\n",
        "EPOCHS = 20\n",
        "\n",
        "# Load a model\n",
        "model = models.resnet50(pretrained=False)\n",
        "num_ftrs = model.fc.in_features\n",
        "model.fc = nn.Linear(num_ftrs, 2)\n",
        "model = model.to(DEVICE)\n",
        "\n",
        "# Define an optimizer\n",
        "optimizer = torch.optim.Adam(model.parameters(), lr=LR)\n",
        "\n",
        "# Scheduler: Update learning rate: Every 5 epochs update Learning rate by multiply by 0.1\n",
        "scheduler = torch.optim.lr_scheduler.StepLR(optimizer, step_size=7, gamma=0.1)\n",
        "\n",
        "# Define a loss function\n",
        "criterion = nn.CrossEntropyLoss()\n",
        "\n",
        "# Define a path to save the trained model\n",
        "model_save_path = './model/'+model_name+'.pt'\n",
        "result_save_path = './result/'+model_name+'.pkl'"
      ],
      "metadata": {
        "id": "k3YQJySrvwRy"
      },
      "execution_count": null,
      "outputs": []
    },
    {
      "cell_type": "code",
      "source": [
        "# Train\n",
        "model = train_model(model, model_save_path, result_save_path, criterion, optimizer, scheduler, EPOCHS)"
      ],
      "metadata": {
        "id": "rRfF648JHi-I",
        "colab": {
          "base_uri": "https://localhost:8080/"
        },
        "outputId": "dc952527-a529-4bbc-9d97-c99698991dac"
      },
      "execution_count": null,
      "outputs": [
        {
          "output_type": "stream",
          "name": "stdout",
          "text": [
            "Training...\n",
            "Epoch 1/20\n",
            "----------\n",
            "Train Loss: 0.0218, Accuracy: 0.5902\n",
            "Validation Loss: 0.0212, Accuracy: 0.6032\n",
            "Model Saved\n",
            "Epoch 2/20\n",
            "----------\n",
            "Train Loss: 0.0203, Accuracy: 0.6311\n",
            "Validation Loss: 0.0197, Accuracy: 0.6472\n",
            "Model Saved\n",
            "Epoch 3/20\n",
            "----------\n",
            "Train Loss: 0.0198, Accuracy: 0.6417\n",
            "Validation Loss: 0.0199, Accuracy: 0.6422\n",
            "Epoch 4/20\n",
            "----------\n",
            "Train Loss: 0.0197, Accuracy: 0.6482\n",
            "Validation Loss: 0.0189, Accuracy: 0.6732\n",
            "Model Saved\n",
            "Epoch 5/20\n",
            "----------\n",
            "Train Loss: 0.0189, Accuracy: 0.6735\n",
            "Validation Loss: 0.0187, Accuracy: 0.6692\n",
            "Epoch 6/20\n",
            "----------\n",
            "Train Loss: 0.0184, Accuracy: 0.6896\n",
            "Validation Loss: 0.0176, Accuracy: 0.7076\n",
            "Model Saved\n",
            "Epoch 7/20\n",
            "----------\n",
            "Train Loss: 0.0178, Accuracy: 0.7041\n",
            "Validation Loss: 0.0179, Accuracy: 0.7078\n",
            "Model Saved\n",
            "Epoch 8/20\n",
            "----------\n",
            "Train Loss: 0.0164, Accuracy: 0.7375\n",
            "Validation Loss: 0.0163, Accuracy: 0.7388\n",
            "Model Saved\n",
            "Epoch 9/20\n",
            "----------\n",
            "Train Loss: 0.0159, Accuracy: 0.7489\n",
            "Validation Loss: 0.0157, Accuracy: 0.7548\n",
            "Model Saved\n",
            "Epoch 10/20\n",
            "----------\n",
            "Train Loss: 0.0151, Accuracy: 0.7669\n",
            "Validation Loss: 0.0152, Accuracy: 0.7682\n",
            "Model Saved\n",
            "Epoch 11/20\n",
            "----------\n",
            "Train Loss: 0.0147, Accuracy: 0.7737\n",
            "Validation Loss: 0.0144, Accuracy: 0.7882\n",
            "Model Saved\n",
            "Epoch 12/20\n",
            "----------\n",
            "Train Loss: 0.0141, Accuracy: 0.7858\n",
            "Validation Loss: 0.0138, Accuracy: 0.8016\n",
            "Model Saved\n",
            "Epoch 13/20\n",
            "----------\n",
            "Train Loss: 0.0136, Accuracy: 0.7928\n",
            "Validation Loss: 0.0132, Accuracy: 0.8042\n",
            "Model Saved\n",
            "Epoch 14/20\n",
            "----------\n",
            "Train Loss: 0.0129, Accuracy: 0.8057\n",
            "Validation Loss: 0.0129, Accuracy: 0.8096\n",
            "Model Saved\n",
            "Epoch 15/20\n",
            "----------\n",
            "Train Loss: 0.0122, Accuracy: 0.8185\n",
            "Validation Loss: 0.0123, Accuracy: 0.8200\n",
            "Model Saved\n",
            "Epoch 16/20\n",
            "----------\n",
            "Train Loss: 0.0118, Accuracy: 0.8271\n",
            "Validation Loss: 0.0120, Accuracy: 0.8264\n",
            "Model Saved\n",
            "Epoch 17/20\n",
            "----------\n",
            "Train Loss: 0.0117, Accuracy: 0.8259\n",
            "Validation Loss: 0.0120, Accuracy: 0.8232\n",
            "Epoch 18/20\n",
            "----------\n",
            "Train Loss: 0.0117, Accuracy: 0.8259\n",
            "Validation Loss: 0.0122, Accuracy: 0.8226\n",
            "Epoch 19/20\n",
            "----------\n",
            "Train Loss: 0.0116, Accuracy: 0.8289\n",
            "Validation Loss: 0.0119, Accuracy: 0.8268\n",
            "Model Saved\n",
            "Epoch 20/20\n",
            "----------\n",
            "Train Loss: 0.0114, Accuracy: 0.8325\n",
            "Validation Loss: 0.0117, Accuracy: 0.8294\n",
            "Model Saved\n",
            "Train completed in 95m 49s\n",
            "Best Val Accuracy: 0.8294\n"
          ]
        }
      ]
    },
    {
      "cell_type": "code",
      "source": [
        "# Test\n",
        "test_model(model, model_save_path)"
      ],
      "metadata": {
        "id": "3Atvuw01HnlH",
        "colab": {
          "base_uri": "https://localhost:8080/"
        },
        "outputId": "c19b4bde-63ed-4e29-97fa-36d241b8f5a2"
      },
      "execution_count": null,
      "outputs": [
        {
          "output_type": "stream",
          "name": "stdout",
          "text": [
            "Testing...\n",
            "Test completed in 1m 52s\n",
            "Test Accuracy: 0.5134\n"
          ]
        }
      ]
    },
    {
      "cell_type": "markdown",
      "source": [
        "### Resenet50 (Transfer Learning)"
      ],
      "metadata": {
        "id": "ySvND_w0LPWR"
      }
    },
    {
      "cell_type": "code",
      "source": [
        "model_name = \"resnet50TL\"\n",
        "LR = 0.001\n",
        "EPOCHS = 20\n",
        "\n",
        "# Load a model\n",
        "model = models.resnet50(pretrained=True)\n",
        "for param in model.parameters():\n",
        "    param.requires_grad = False\n",
        "\n",
        "num_ftrs = model.fc.in_features\n",
        "model.fc = nn.Linear(num_ftrs, 2)\n",
        "model.to(DEVICE)\n",
        "\n",
        "# Define an optimizer\n",
        "optimizer = torch.optim.Adam(model.parameters(), lr=LR)\n",
        "# Scheduler: Update learning rate: Every 5 epochs update Learning rate by multiply by 0.1\n",
        "scheduler = torch.optim.lr_scheduler.StepLR(optimizer, step_size=5, gamma=0.1)\n",
        "\n",
        "# Define a loss function\n",
        "criterion = nn.CrossEntropyLoss()\n",
        "\n",
        "# Define a path to save the trained model\n",
        "model_save_path = './model/'+model_name+'.pt'\n",
        "result_save_path = './result/'+model_name+'.pkl'"
      ],
      "metadata": {
        "id": "04DRT8raLU39",
        "colab": {
          "base_uri": "https://localhost:8080/",
          "height": 67,
          "referenced_widgets": [
            "08821a6eb1c9437f9b59ea2fe2145104",
            "d18cd8f109b349b0851e0140598756d3",
            "d9936784f80b45999b8bfc2bd6198ae7",
            "ebbc0143ae6e4a43a4079a4c03e61b60",
            "f8e680e32edd4be885e241152bb2af2d",
            "ccd0a6b7f98f43729ed9fb1bc08b43bd",
            "fac324bd718a48bda9a4595552d5c51a",
            "837acbc28a6740d8a8a59d3250f3638e",
            "dfbd1cbd400e48eca9a53d4d46c6341d",
            "a37f0c62e8d74e9981b0781ad01422ca",
            "cbda698e26974f94b98ef7751365d789"
          ]
        },
        "outputId": "e8b430b2-fa56-4a85-cfcd-ba8b1da1d4db"
      },
      "execution_count": null,
      "outputs": [
        {
          "output_type": "stream",
          "name": "stderr",
          "text": [
            "Downloading: \"https://download.pytorch.org/models/resnet50-0676ba61.pth\" to /root/.cache/torch/hub/checkpoints/resnet50-0676ba61.pth\n"
          ]
        },
        {
          "output_type": "display_data",
          "data": {
            "text/plain": [
              "  0%|          | 0.00/97.8M [00:00<?, ?B/s]"
            ],
            "application/vnd.jupyter.widget-view+json": {
              "version_major": 2,
              "version_minor": 0,
              "model_id": "08821a6eb1c9437f9b59ea2fe2145104"
            }
          },
          "metadata": {}
        }
      ]
    },
    {
      "cell_type": "code",
      "source": [
        "# Train\n",
        "model = train_model(model, model_save_path, result_save_path, criterion, optimizer, scheduler, EPOCHS)"
      ],
      "metadata": {
        "id": "T4AdQrLBB0Sm",
        "colab": {
          "base_uri": "https://localhost:8080/"
        },
        "outputId": "b80b9f30-ba7e-499e-9ff5-725743ed3c52"
      },
      "execution_count": null,
      "outputs": [
        {
          "output_type": "stream",
          "name": "stdout",
          "text": [
            "Training...\n",
            "Epoch 1/20\n",
            "----------\n",
            "Train Loss: 0.0063, Accuracy: 0.9122\n",
            "Validation Loss: 0.0058, Accuracy: 0.9226\n",
            "Model Saved\n",
            "Epoch 2/20\n",
            "----------\n",
            "Train Loss: 0.0056, Accuracy: 0.9243\n",
            "Validation Loss: 0.0047, Accuracy: 0.9354\n",
            "Model Saved\n",
            "Epoch 3/20\n",
            "----------\n",
            "Train Loss: 0.0054, Accuracy: 0.9268\n",
            "Validation Loss: 0.0049, Accuracy: 0.9352\n",
            "Epoch 4/20\n",
            "----------\n",
            "Train Loss: 0.0054, Accuracy: 0.9264\n",
            "Validation Loss: 0.0048, Accuracy: 0.9372\n",
            "Model Saved\n",
            "Epoch 5/20\n",
            "----------\n",
            "Train Loss: 0.0053, Accuracy: 0.9275\n",
            "Validation Loss: 0.0046, Accuracy: 0.9344\n",
            "Epoch 6/20\n",
            "----------\n",
            "Train Loss: 0.0045, Accuracy: 0.9376\n",
            "Validation Loss: 0.0050, Accuracy: 0.9314\n",
            "Epoch 7/20\n",
            "----------\n",
            "Train Loss: 0.0044, Accuracy: 0.9389\n",
            "Validation Loss: 0.0047, Accuracy: 0.9364\n",
            "Epoch 8/20\n",
            "----------\n",
            "Train Loss: 0.0044, Accuracy: 0.9376\n",
            "Validation Loss: 0.0046, Accuracy: 0.9374\n",
            "Model Saved\n",
            "Epoch 9/20\n",
            "----------\n",
            "Train Loss: 0.0044, Accuracy: 0.9381\n",
            "Validation Loss: 0.0046, Accuracy: 0.9360\n",
            "Epoch 10/20\n",
            "----------\n",
            "Train Loss: 0.0044, Accuracy: 0.9395\n",
            "Validation Loss: 0.0045, Accuracy: 0.9372\n",
            "Epoch 11/20\n",
            "----------\n",
            "Train Loss: 0.0044, Accuracy: 0.9381\n",
            "Validation Loss: 0.0045, Accuracy: 0.9386\n",
            "Model Saved\n",
            "Epoch 12/20\n",
            "----------\n",
            "Train Loss: 0.0044, Accuracy: 0.9399\n",
            "Validation Loss: 0.0045, Accuracy: 0.9372\n",
            "Epoch 13/20\n",
            "----------\n",
            "Train Loss: 0.0044, Accuracy: 0.9392\n",
            "Validation Loss: 0.0046, Accuracy: 0.9392\n",
            "Model Saved\n",
            "Epoch 14/20\n",
            "----------\n",
            "Train Loss: 0.0044, Accuracy: 0.9378\n",
            "Validation Loss: 0.0047, Accuracy: 0.9356\n",
            "Epoch 15/20\n",
            "----------\n",
            "Train Loss: 0.0042, Accuracy: 0.9396\n",
            "Validation Loss: 0.0045, Accuracy: 0.9416\n",
            "Model Saved\n",
            "Epoch 16/20\n",
            "----------\n",
            "Train Loss: 0.0045, Accuracy: 0.9372\n",
            "Validation Loss: 0.0048, Accuracy: 0.9378\n",
            "Epoch 17/20\n",
            "----------\n",
            "Train Loss: 0.0042, Accuracy: 0.9418\n",
            "Validation Loss: 0.0046, Accuracy: 0.9386\n",
            "Epoch 18/20\n",
            "----------\n",
            "Train Loss: 0.0044, Accuracy: 0.9378\n",
            "Validation Loss: 0.0046, Accuracy: 0.9388\n",
            "Epoch 19/20\n",
            "----------\n",
            "Train Loss: 0.0043, Accuracy: 0.9397\n",
            "Validation Loss: 0.0047, Accuracy: 0.9358\n",
            "Epoch 20/20\n",
            "----------\n",
            "Train Loss: 0.0043, Accuracy: 0.9403\n",
            "Validation Loss: 0.0044, Accuracy: 0.9404\n",
            "Train completed in 249m 1s\n",
            "Best Val Accuracy: 0.9416\n"
          ]
        }
      ]
    },
    {
      "cell_type": "code",
      "source": [
        "# Test\n",
        "test_model(model, model_save_path)"
      ],
      "metadata": {
        "id": "6VywRbXPIKVy",
        "colab": {
          "base_uri": "https://localhost:8080/"
        },
        "outputId": "dbdce7b0-9816-4ba7-8363-d319f72ab368"
      },
      "execution_count": null,
      "outputs": [
        {
          "output_type": "stream",
          "name": "stdout",
          "text": [
            "Testing...\n",
            "Test completed in 89m 22s\n",
            "Test Accuracy: 0.4970\n"
          ]
        }
      ]
    },
    {
      "cell_type": "markdown",
      "source": [
        "##5. Results"
      ],
      "metadata": {
        "id": "x2UZbQzNCuWR"
      }
    },
    {
      "cell_type": "code",
      "source": [
        "# Load result files\n",
        "result_path = './result'\n",
        "\n",
        "result_list = glob.glob(os.path.join(result_path,'*.pkl'))\n",
        "results = dict()\n",
        "\n",
        "for filename in result_list:\n",
        "    basename = os.path.basename(filename)\n",
        "    a_model = os.path.splitext(basename)[0]\n",
        "    with (open(filename, \"rb\")) as f:\n",
        "        results[a_model] = pickle.load(f)"
      ],
      "metadata": {
        "id": "nm2Sfuw7C2rD"
      },
      "execution_count": 11,
      "outputs": []
    },
    {
      "cell_type": "code",
      "source": [
        "results[\"customCNN\"]"
      ],
      "metadata": {
        "colab": {
          "base_uri": "https://localhost:8080/"
        },
        "id": "65nuyfs9NwzS",
        "outputId": "b493203c-91e3-4f2d-99bb-6e845a967afb"
      },
      "execution_count": 15,
      "outputs": [
        {
          "output_type": "execute_result",
          "data": {
            "text/plain": [
              "{1: {'Val_Acc': 0.5804, 'Val_Loss': 0.03418294540643691},\n",
              " 2: {'Val_Acc': 0.5857999999999999, 'Val_Loss': 0.024110367941856378},\n",
              " 3: {'Val_Acc': 0.6158000000000001, 'Val_Loss': 0.020608111357688908},\n",
              " 4: {'Val_Acc': 0.6270000000000006, 'Val_Loss': 0.019894619691371917},\n",
              " 5: {'Val_Acc': 0.6225999999999999, 'Val_Loss': 0.02013082714676857},\n",
              " 6: {'Val_Acc': 0.645600000000001, 'Val_Loss': 0.01970282630324363},\n",
              " 7: {'Val_Acc': 0.6700000000000003, 'Val_Loss': 0.01906875426173209},\n",
              " 8: {'Val_Acc': 0.6912000000000003, 'Val_Loss': 0.01811071509718895},\n",
              " 9: {'Val_Acc': 0.705, 'Val_Loss': 0.01774987102150918},\n",
              " 10: {'Val_Acc': 0.6976000000000002, 'Val_Loss': 0.017825168132781982},\n",
              " 11: {'Val_Acc': 0.6992000000000003, 'Val_Loss': 0.01789944111704827},\n",
              " 12: {'Val_Acc': 0.7074000000000004, 'Val_Loss': 0.017606870037317278},\n",
              " 13: {'Val_Acc': 0.7030000000000001, 'Val_Loss': 0.01792822734117509},\n",
              " 14: {'Val_Acc': 0.7202000000000003, 'Val_Loss': 0.017153823101520544},\n",
              " 15: {'Val_Acc': 0.7164000000000004, 'Val_Loss': 0.017259107577800747},\n",
              " 16: {'Val_Acc': 0.7258000000000002, 'Val_Loss': 0.016792111372947685},\n",
              " 17: {'Val_Acc': 0.7096000000000002, 'Val_Loss': 0.01713769111633301},\n",
              " 18: {'Val_Acc': 0.7144000000000006, 'Val_Loss': 0.01740271276831627},\n",
              " 19: {'Val_Acc': 0.7216000000000005, 'Val_Loss': 0.017081505143642428},\n",
              " 20: {'Val_Acc': 0.709, 'Val_Loss': 0.017331616580486306}}"
            ]
          },
          "metadata": {},
          "execution_count": 15
        }
      ]
    },
    {
      "cell_type": "code",
      "source": [
        "from collections import defaultdict\n",
        "# results -> each model -> Train_Loss, Train_Acc, Val_Loss, Val_Acc\n",
        "\n",
        "models = results.keys()\n",
        "Val_Acc = defaultdict(list)\n",
        "Val_Loss = defaultdict(list)\n",
        "eps = []\n",
        "\n",
        "for m in models:\n",
        "    for ep in results[m].keys():\n",
        "        Val_Acc[m].append(results[m][ep]['Val_Acc'])\n",
        "        Val_Loss[m].append(results[m][ep]['Val_Loss'])"
      ],
      "metadata": {
        "id": "kcEsZ7M7Tqnk"
      },
      "execution_count": 46,
      "outputs": []
    },
    {
      "cell_type": "code",
      "source": [
        "x_range = np.arange(1, 21, step=1)\n",
        "\n",
        "for m in models:\n",
        "    plt.plot(x_range, Val_Acc[m], label=m)\n",
        "plt.title(\"Validation Accuracy\")\n",
        "plt.legend(loc='best')\n",
        "plt.xticks(x_range)\n",
        "plt.show()"
      ],
      "metadata": {
        "colab": {
          "base_uri": "https://localhost:8080/",
          "height": 281
        },
        "id": "aGz4EKd9Rjw7",
        "outputId": "4ea482e2-a45b-4a94-d34c-053416856df1"
      },
      "execution_count": 48,
      "outputs": [
        {
          "output_type": "display_data",
          "data": {
            "text/plain": [
              "<Figure size 432x288 with 1 Axes>"
            ],
            "image/png": "[encoded data removed]"
          },
          "metadata": {
            "needs_background": "light"
          }
        }
      ]
    },
    {
      "cell_type": "code",
      "source": [
        "for m in models:\n",
        "    plt.plot(x_range, Val_Loss[m], label=m)\n",
        "plt.title(\"Validation Loss\")\n",
        "plt.legend(loc='best')\n",
        "plt.xticks(x_range)\n",
        "plt.show()"
      ],
      "metadata": {
        "colab": {
          "base_uri": "https://localhost:8080/",
          "height": 281
        },
        "id": "7G-Gh2ngRg3L",
        "outputId": "2220b2bc-75fa-439c-c0fd-d1b79c5d5f04"
      },
      "execution_count": 49,
      "outputs": [
        {
          "output_type": "display_data",
          "data": {
            "text/plain": [
              "<Figure size 432x288 with 1 Axes>"
            ],
            "image/png": "[encoded data removed]"
          },
          "metadata": {
            "needs_background": "light"
          }
        }
      ]
    },
    {
      "cell_type": "markdown",
      "source": [
        "##6. Evaluate the Trained Model"
      ],
      "metadata": {
        "id": "tGKDBVDorHvF"
      }
    },
    {
      "cell_type": "code",
      "source": [
        "def get_prediction(x, model: nn.Module):\n",
        "    with torch.no_grad():\n",
        "        probabilities = torch.softmax(model(x), dim=1)\n",
        "        predicted_class = torch.argmax(probabilities, dim=1)\n",
        "    return predicted_class, probabilities"
      ],
      "metadata": {
        "id": "YnJ-bbA3rFe2"
      },
      "execution_count": 25,
      "outputs": []
    },
    {
      "cell_type": "code",
      "source": [
        "from sklearn.metrics import classification_report\n",
        "\n",
        "def getReport(model: nn.Module):\n",
        "    true_y, pred_y = [], []\n",
        "\n",
        "    for batch in tqdm(iter(test_dl), total=len(test_dl)):\n",
        "        x, y = batch\n",
        "        x = x.to(DEVICE)\n",
        "\n",
        "        true_y.extend(y)\n",
        "        preds, probs = get_prediction(x, inference_model)\n",
        "        pred_y.extend(preds.cpu())\n",
        "\n",
        "    print(classification_report(true_y, pred_y, digits=3))"
      ],
      "metadata": {
        "id": "a2GsLFrjd6zz"
      },
      "execution_count": 26,
      "outputs": []
    },
    {
      "cell_type": "code",
      "source": [
        "customCNNpath = './model/customCNN.pt'\n",
        "inference_model = Cnn(in_channels = 3, num_classes = 2, image_size = IMG_SIZE).to(DEVICE)\n",
        "inference_model.load_state_dict(torch.load(customCNNpath))\n",
        "\n",
        "getReport(inference_model)"
      ],
      "metadata": {
        "colab": {
          "base_uri": "https://localhost:8080/"
        },
        "id": "13CsdIZzWu-O",
        "outputId": "897f6655-45b1-4191-9339-a218ef75adcc"
      },
      "execution_count": null,
      "outputs": [
        {
          "output_type": "stream",
          "name": "stderr",
          "text": [
            " 25%|██▌       | 98/391 [09:42<37:03,  7.59s/it]"
          ]
        }
      ]
    },
    {
      "cell_type": "code",
      "source": [
        "resnet50path = './model/resnet50.pt'\n",
        "\n",
        "inference_model = models.resnet50(pretrained=False)\n",
        "num_ftrs = inference_model.fc.in_features\n",
        "inference_model.fc = nn.Linear(num_ftrs, 2)\n",
        "inference_model = inference_model.to(DEVICE)\n",
        "inference_model.load_state_dict(torch.load(resnet50path))\n",
        "\n",
        "getReport(inference_model)"
      ],
      "metadata": {
        "id": "3z5sxbXhfaLt"
      },
      "execution_count": null,
      "outputs": []
    },
    {
      "cell_type": "code",
      "source": [
        "resnet50TLpath = './model/resnet50TL.pt'\n",
        "\n",
        "inference_model = models.resnet50(pretrained=False)\n",
        "num_ftrs = inference_model.fc.in_features\n",
        "inference_model.fc = nn.Linear(num_ftrs, 2)\n",
        "inference_model = inference_model.to(DEVICE)\n",
        "inference_model.load_state_dict(torch.load(resnet50TLpath))\n",
        "\n",
        "getReport(inference_model)"
      ],
      "metadata": {
        "id": "XywAz-AAfaOi"
      },
      "execution_count": null,
      "outputs": []
    },
    {
      "cell_type": "markdown",
      "source": [
        "##7. Inference"
      ],
      "metadata": {
        "id": "r70NkRdnriMe"
      }
    },
    {
      "cell_type": "code",
      "source": [
        "test_imgs, test_labels = next(iter(test_dl))\n",
        "test_imgs = test_imgs.to(DEVICE)\n",
        "\n",
        "print(\"Number of samples in the current batch: \", len(test_labels))"
      ],
      "metadata": {
        "id": "Xp5fr236rZ82"
      },
      "execution_count": null,
      "outputs": []
    },
    {
      "cell_type": "code",
      "source": [
        "preds, probs = get_prediction(test_imgs, inference_model)"
      ],
      "metadata": {
        "id": "RjHO7jzRrZ-6"
      },
      "execution_count": null,
      "outputs": []
    },
    {
      "cell_type": "code",
      "source": [
        "for i in range(4):\n",
        "    a_img = test_imgs[i].squeeze()\n",
        "    a_label = test_labels[i]\n",
        "    \n",
        "    # Current a_img shape is (3, 96, 96) = (channel, height, width). We need to convert it to (height, width, channel) to display the image\n",
        "    a_img = np.transpose(a_img.cpu(), (1, 2, 0))\n",
        "    plt.imshow(a_img)\n",
        "    plt.show()\n",
        "\n",
        "    print(\"Predicted Label: {} ({})\".format(preds[i].item(), category[preds[i].item()]))\n",
        "    print(\"True Label:      {} ({})\".format(a_label.item(), category[a_label.item()]))\n",
        "    print(\"\")\n",
        "    print(\"\")"
      ],
      "metadata": {
        "id": "htIuS03ProEF"
      },
      "execution_count": null,
      "outputs": []
    },
    {
      "cell_type": "code",
      "source": [
        ""
      ],
      "metadata": {
        "id": "HmoftVL3SB3I"
      },
      "execution_count": null,
      "outputs": []
    }
  ]
}